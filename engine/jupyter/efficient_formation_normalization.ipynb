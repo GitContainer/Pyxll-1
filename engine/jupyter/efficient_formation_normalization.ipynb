{
 "cells": [
  {
   "cell_type": "markdown",
   "metadata": {},
   "source": [
    "# Formation Normalization"
   ]
  },
  {
   "cell_type": "code",
   "execution_count": 2,
   "metadata": {},
   "outputs": [],
   "source": [
    "import pandas as pd\n",
    "import numpy as np\n",
    "import pickle\n",
    "import pyodbc\n",
    "import numba\n",
    "import os\n",
    "import sys\n",
    "\n",
    "sys.path.append(\"S:\\\\Engineering\\\\01. Development\\\\Financial Engine\\\\\")\n",
    "\n",
    "from utils.pandas_utils import *\n",
    "from utils.custom_tfs import *"
   ]
  },
  {
   "cell_type": "code",
   "execution_count": 3,
   "metadata": {},
   "outputs": [
    {
     "data": {
      "text/plain": [
       "<IPython.core.display.Javascript object>"
      ]
     },
     "metadata": {},
     "output_type": "display_data"
    }
   ],
   "source": [
    "%load_ext nb_black"
   ]
  },
  {
   "cell_type": "markdown",
   "metadata": {},
   "source": [
    "### Needs 1002a, formations, allocations, section_assumptions data"
   ]
  },
  {
   "cell_type": "code",
   "execution_count": 4,
   "metadata": {},
   "outputs": [
    {
     "data": {
      "text/plain": [
       "<IPython.core.display.Javascript object>"
      ]
     },
     "metadata": {},
     "output_type": "display_data"
    }
   ],
   "source": [
    "# db connections\n",
    "driver = \"{ODBC Driver 17 for SQL Server}\"\n",
    "server = \"syntax-dev-sql.database.windows.net\"\n",
    "port = 1443\n",
    "\n",
    "user = os.environ[\"ALLSQUARE_USERNAME\"]\n",
    "pwd = os.environ[\"ALLSQUARE_PASSWORD\"]\n",
    "auth = \"ActiveDirectoryPassword\"\n",
    "cnxns = dict()\n",
    "dbs = [\"syntax_dev\", \"syntax_dev_hist\", \"stg_cg_export\"]\n",
    "for db in dbs:\n",
    "    cnxn_string = f\"DRIVER={driver};PORT={port};SERVER={server};PORT={port};DATABASE={db};UID={user};PWD={pwd};Authentication={auth}\"\n",
    "    cnxns[db] = pyodbc.connect(cnxn_string)"
   ]
  },
  {
   "cell_type": "code",
   "execution_count": 29,
   "metadata": {},
   "outputs": [
    {
     "data": {
      "text/plain": [
       "<IPython.core.display.Javascript object>"
      ]
     },
     "metadata": {},
     "output_type": "display_data"
    }
   ],
   "source": [
    "get_index_well = \"\"\"\n",
    "SELECT\n",
    "    api\n",
    "    from dbo.index_well\n",
    "where is_horizontal = 1\n",
    "\"\"\"\n",
    "\n",
    "get_w27_main = \"\"\"\n",
    "SELECT\n",
    "    id,\n",
    "    n_api as api,\n",
    "    well_name,\n",
    "    well_number,\n",
    "    operator_name,\n",
    "    mod_date,\n",
    "    well_completion\n",
    "from r_occ_w27_main\n",
    "\"\"\"\n",
    "\n",
    "get_w27_formation = \"\"\"\n",
    "SELECT\n",
    "    id,\n",
    "    n_api as api,\n",
    "    form_name\n",
    "from r_occ_w27_formation\n",
    "where form_name != ''\n",
    "\"\"\"\n",
    "\n",
    "get_allocation = \"\"\"\n",
    "SELECT \n",
    "    api,\n",
    "    trsm_heh,\n",
    "    allocation,\n",
    "    proxy_allocation,\n",
    "    footage,\n",
    "    footage/proxy_allocation as total_footage\n",
    "    FROM dbo.index_well_land\n",
    "where proxy_allocation is not null\n",
    "    and use_for_allocation = 1; \n",
    "\"\"\""
   ]
  },
  {
   "cell_type": "code",
   "execution_count": 30,
   "metadata": {},
   "outputs": [
    {
     "data": {
      "text/plain": [
       "<IPython.core.display.Javascript object>"
      ]
     },
     "metadata": {},
     "output_type": "display_data"
    }
   ],
   "source": [
    "horizontal_wells = (\n",
    "    pd.read_sql(get_index_well, cnxns[\"stg_cg_export\"])\n",
    "    .pipe(ccast, ([\"api\"], tf_api))\n",
    "    .api.unique()\n",
    ")"
   ]
  },
  {
   "cell_type": "markdown",
   "metadata": {},
   "source": [
    "## 1002a"
   ]
  },
  {
   "cell_type": "code",
   "execution_count": 31,
   "metadata": {},
   "outputs": [
    {
     "data": {
      "text/plain": [
       "<IPython.core.display.Javascript object>"
      ]
     },
     "metadata": {},
     "output_type": "display_data"
    }
   ],
   "source": [
    "# In case of multiple f1002a for a single api take the latest one.\n",
    "f1002a = (\n",
    "    pd.read_sql(get_w27_main, cnxns[\"stg_cg_export\"])\n",
    "    .pipe(ccast, ([\"api\"], tf_api))\n",
    "    .pipe(ccast, ([\"mod_date\", \"well_completion\"], tf_date))\n",
    "    .assign(\n",
    "        well_name=lambda x: x.well_name.str.strip()\n",
    "        + \" \"\n",
    "        + x.well_number.str.strip()\n",
    "    )\n",
    "    .query(\"api in @horizontal_wells\")\n",
    "    .reset_index(drop=True)\n",
    "    .loc[\n",
    "        :,\n",
    "        [\n",
    "            \"id\",\n",
    "            \"api\",\n",
    "            \"well_name\",\n",
    "            \"operator_name\",\n",
    "            \"mod_date\",\n",
    "            \"well_completion\",\n",
    "        ],\n",
    "    ]\n",
    "    .sort_values([\"api\", \"mod_date\"], ascending=[True, False])\n",
    "    .reset_index(drop=True)\n",
    ")"
   ]
  },
  {
   "cell_type": "markdown",
   "metadata": {},
   "source": [
    "### Filter wells that dont have duplicates. In case of duplicates keep on the latest (based on modified date) as the only 1002a for the well."
   ]
  },
  {
   "cell_type": "code",
   "execution_count": 33,
   "metadata": {},
   "outputs": [
    {
     "data": {
      "text/plain": [
       "<IPython.core.display.Javascript object>"
      ]
     },
     "metadata": {},
     "output_type": "display_data"
    }
   ],
   "source": [
    "unique_mask = ~f1002a.duplicated(\"api\", keep=\"first\") | ~f1002a.duplicated(\n",
    "    \"api\", keep=False\n",
    ")"
   ]
  },
  {
   "cell_type": "markdown",
   "metadata": {},
   "source": [
    "## Formation"
   ]
  },
  {
   "cell_type": "code",
   "execution_count": 34,
   "metadata": {},
   "outputs": [
    {
     "data": {
      "text/plain": [
       "<IPython.core.display.Javascript object>"
      ]
     },
     "metadata": {},
     "output_type": "display_data"
    }
   ],
   "source": [
    "f1002a_id = f1002a.id"
   ]
  },
  {
   "cell_type": "code",
   "execution_count": 35,
   "metadata": {},
   "outputs": [
    {
     "data": {
      "text/plain": [
       "<IPython.core.display.Javascript object>"
      ]
     },
     "metadata": {},
     "output_type": "display_data"
    }
   ],
   "source": [
    "formation = (\n",
    "    pd.read_sql(get_w27_formation, cnxns[\"stg_cg_export\"])\n",
    "    .query(\"id in @f1002a_id\")\n",
    "    .reset_index(drop=True)\n",
    "    .assign(form_name=lambda x: x.form_name.str.strip())\n",
    "    .pipe(ccast, ([\"form_name\"], tf_formation))\n",
    "    .groupby(\"id\", as_index=False)\n",
    "    .form_name.agg({\"formation\": lambda x: \" \".join(x)})\n",
    ")"
   ]
  },
  {
   "cell_type": "code",
   "execution_count": 36,
   "metadata": {},
   "outputs": [
    {
     "data": {
      "text/plain": [
       "<IPython.core.display.Javascript object>"
      ]
     },
     "metadata": {},
     "output_type": "display_data"
    }
   ],
   "source": [
    "allocation_threshold = 0.15"
   ]
  },
  {
   "cell_type": "code",
   "execution_count": 37,
   "metadata": {},
   "outputs": [
    {
     "data": {
      "text/plain": [
       "<IPython.core.display.Javascript object>"
      ]
     },
     "metadata": {},
     "output_type": "display_data"
    }
   ],
   "source": [
    "allocation = (\n",
    "    pd.read_sql(get_allocation, cnxns[\"stg_cg_export\"])\n",
    "    .pipe(ccast, ([\"api\"], tf_api))\n",
    "    .pipe(ccast, ([\"footage\", \"total_footage\"], tf_feet))\n",
    "    .pipe(ccast, ([\"allocation\", \"proxy_allocation\"], tf_allocation))\n",
    "    .assign(\n",
    "        final_allocation=lambda x: np.where(\n",
    "            x.allocation.notnull(), x.allocation, x.proxy_allocation\n",
    "        )\n",
    "    )\n",
    "    .rename(columns={\"final_allocation\": \"allocation\"})\n",
    "    .query(\"allocation > @allocation_threshold\")\n",
    "    .loc[:, [\"api\", \"trsm_heh\"]]\n",
    ")"
   ]
  },
  {
   "cell_type": "markdown",
   "metadata": {},
   "source": [
    "\n",
    "## Section Assumption"
   ]
  },
  {
   "cell_type": "code",
   "execution_count": 38,
   "metadata": {},
   "outputs": [
    {
     "data": {
      "text/plain": [
       "<IPython.core.display.Javascript object>"
      ]
     },
     "metadata": {},
     "output_type": "display_data"
    }
   ],
   "source": [
    "sec_ass = (\n",
    "    pd.read_csv(\"../data/section_assumption.csv\")\n",
    "    .pipe(\n",
    "        ccast,\n",
    "        (\n",
    "            [\"nwells_1\", \"tolerance_1\", \"nwells_2\", \"tolerance_2\"],\n",
    "            tf_number_wells,\n",
    "        ),\n",
    "    )\n",
    "    .pipe(ccast, ([\"section_acres\"], tf_section_acres))\n",
    "    .pipe(ccast, ([\"formation_1\", \"formation_2\"], tf_formation))\n",
    ")"
   ]
  },
  {
   "cell_type": "code",
   "execution_count": 39,
   "metadata": {},
   "outputs": [
    {
     "data": {
      "text/plain": [
       "<IPython.core.display.Javascript object>"
      ]
     },
     "metadata": {},
     "output_type": "display_data"
    }
   ],
   "source": [
    "df = (\n",
    "    f1002a.merge(allocation, on=\"api\")\n",
    "    .merge(\n",
    "        sec_ass.query(\"formation_1 != 'NONE' or formation_2 != 'NONE'\").loc[\n",
    "            :, [\"trsm_heh\", \"formation_1\", \"formation_2\"]\n",
    "        ],\n",
    "        on=\"trsm_heh\",\n",
    "    )\n",
    "    .reset_index(drop=True)\n",
    "    .merge(formation, on=\"id\")\n",
    ")"
   ]
  },
  {
   "cell_type": "code",
   "execution_count": 40,
   "metadata": {},
   "outputs": [
    {
     "data": {
      "text/plain": [
       "'Processing 19754 wells for formation normalization'"
      ]
     },
     "execution_count": 40,
     "metadata": {},
     "output_type": "execute_result"
    },
    {
     "data": {
      "text/plain": [
       "<IPython.core.display.Javascript object>"
      ]
     },
     "metadata": {},
     "output_type": "display_data"
    }
   ],
   "source": [
    "f\"Processing {df.shape[0]} wells for formation normalization\""
   ]
  },
  {
   "cell_type": "markdown",
   "metadata": {},
   "source": [
    "## Logic starts here\n",
    "### A string array of dimenstion - [5, nwells]\n",
    "Array should be oneline. One row per well.\n",
    "0. well_name \n",
    "1. operator_name\n",
    "2. formation (concatenated with space)\n",
    "3. formation 1 (from section assumption)\n",
    "4. formation 2 (from section assumption)"
   ]
  },
  {
   "cell_type": "code",
   "execution_count": 41,
   "metadata": {},
   "outputs": [
    {
     "data": {
      "text/plain": [
       "<IPython.core.display.Javascript object>"
      ]
     },
     "metadata": {},
     "output_type": "display_data"
    }
   ],
   "source": [
    "string_columns = [\n",
    "    \"well_name\",\n",
    "    \"operator_name\",\n",
    "    \"formation\",\n",
    "    \"formation_1\",\n",
    "    \"formation_2\",\n",
    "]\n",
    "string_array = df.loc[:, string_columns].values.transpose().astype(\"unicode\")\n",
    "wells = string_array[0]\n",
    "operators = string_array[1]\n",
    "formations = string_array[2]\n",
    "formation_1 = string_array[3]\n",
    "formation_2 = string_array[4]\n",
    "\n",
    "known_formations = np.array(\n",
    "    [\n",
    "        \"WOODFORD\",\n",
    "        \"MERAMEC\",\n",
    "        \"SPRINGER\",\n",
    "        \"SYCAMORE\",\n",
    "        \"OSAGE\",\n",
    "        \"OSWEGO\",\n",
    "        \"HOXBAR\",\n",
    "        \"MAYES\",\n",
    "        \"DES MOINES\",\n",
    "        \"MARMATON\",\n",
    "        \"CLEVELAND\",\n",
    "        \"COTTAGE GROVE\",\n",
    "        \"TONKAWA\",\n",
    "    ]\n",
    ").astype(string_array.dtype.str)\n",
    "\n",
    "columns, rows = string_array.shape\n",
    "use_dtype = string_array.dtype\n",
    "\n",
    "norm_form = np.chararray((rows), unicode=True).astype(use_dtype)\n",
    "\n",
    "assert (\n",
    "    norm_form.dtype == known_formations.dtype == string_array.dtype\n",
    "), \"dtypes not matching\"\n",
    "\n",
    "# If formation is from known formation assign it\n",
    "norm_form = np.where(\n",
    "    np.apply_along_axis(lambda x: np.isin(x, known_formations), 0, formations),\n",
    "    formations,\n",
    "    norm_form,\n",
    ")\n",
    "\n",
    "# If formation is not present and formation 1 exists then that is the formation\n",
    "norm_form = np.where(\n",
    "    (norm_form == \"\") & (formation_1 != \"\"), formation_1, norm_form\n",
    ")\n",
    "\n",
    "# If Operator equals Casillas and Well Name contains \"MXH\" or \"MH\", then SYCAMORE.\n",
    "well_mxh_mh = (np.char.find(wells, \"MXH\") >= 0) | (\n",
    "    np.char.find(wells, \"MH\") >= 0\n",
    ")\n",
    "norm_form = np.where(\n",
    "    (norm_form == \"\")\n",
    "    & (np.char.find(operators, \"CASILLAS\") >= 0)\n",
    "    & well_mxh_mh,\n",
    "    \"SYCAMORE\",\n",
    "    norm_form,\n",
    ")\n",
    "\n",
    "# If Formation 1 or Formation 2 contain either SYCAMORE, SPRINGER, or OSAGE (all Mississippian aged rocks)\n",
    "# AND the second formation is NOT SYCAMORE, SPRINGER, OR OSAGE\n",
    "# AND, Well Name contains \"MXH\" or \"MH\"\n",
    "# THEN, normalized to the Miss Formation listed\n",
    "miss_rock = np.array([\"SYCAMORE\", \"SPRINGER\", \"OSAGE\"], dtype=use_dtype)\n",
    "form_1_miss = np.apply_along_axis(\n",
    "    lambda x: np.isin(x, miss_rock), 0, formation_1\n",
    ")\n",
    "form_2_miss = np.apply_along_axis(\n",
    "    lambda x: np.isin(x, miss_rock), 0, formation_2\n",
    ")\n",
    "\n",
    "both_form_miss = form_1_miss & form_2_miss\n",
    "norm_form = np.where(\n",
    "    (form_1_miss & ~both_form_miss & well_mxh_mh), formation_1, norm_form\n",
    ")\n",
    "norm_form = np.where(\n",
    "    (form_2_miss & ~both_form_miss & well_mxh_mh), formation_2, norm_form\n",
    ")\n",
    "\n",
    "# If formation contains 'WOODFORD' assign it WOODFORF\n",
    "norm_form = np.where(\n",
    "    (norm_form == \"\") & (np.char.find(formations, \"WOODFORD\") >= 0),\n",
    "    \"WOODFORD\",\n",
    "    norm_form,\n",
    ")\n",
    "\n",
    "# If Operator contains 'OKLAHOMA ENERGY ACQUISITIONS' make formation 'OSAGE'\n",
    "norm_form = np.where(\n",
    "    (norm_form == \"\")\n",
    "    & (np.char.find(operators, \"OKLAHOMA ENERGY ACQUISITIONS\") >= 0),\n",
    "    \"OSAGE\",\n",
    "    norm_form,\n",
    ")\n",
    "\n",
    "# If formation 1 or 2 is 'MERAMEC' and formation contains \"MISS\" then \"MERAMEC\"\n",
    "norm_form = np.where(\n",
    "    (norm_form == \"\")\n",
    "    & (\n",
    "        ((formation_1 == \"MERAMEC\") | (formation_2 == \"MERAMEC\"))\n",
    "        & (np.char.find(formations, \"MISS\") >= 0)\n",
    "    ),\n",
    "    \"MERAMEC\",\n",
    "    norm_form,\n",
    ")\n",
    "\n",
    "# If formation contains 'SPRINGER' or 'GODDARD' then 'SPRINGER'\n",
    "norm_form = np.where(\n",
    "    (norm_form == \"\")\n",
    "    & (\n",
    "        (np.char.find(formations, \"SPRINGER\") >= 0)\n",
    "        | (np.char.find(formations, \"GODDARD\") >= 0)\n",
    "    ),\n",
    "    \"SPRINGER\",\n",
    "    norm_form,\n",
    ")\n",
    "\n",
    "# If formation 1 contains \"OSWEGO\" then formation 2\n",
    "norm_form = np.where(\n",
    "    (norm_form == \"\") & (formation_1 == \"OSWEGO\"), formation_2, norm_form\n",
    ")\n",
    "\n",
    "# If formation 1 contains \"WOODFORD\" then formation 2\n",
    "norm_form = np.where(\n",
    "    (norm_form == \"\") & (formation_1 == \"WOODFORD\"), formation_2, norm_form\n",
    ")"
   ]
  },
  {
   "cell_type": "code",
   "execution_count": 42,
   "metadata": {},
   "outputs": [
    {
     "data": {
      "text/plain": [
       "'4175/19754 wells have no normalized formations'"
      ]
     },
     "execution_count": 42,
     "metadata": {},
     "output_type": "execute_result"
    },
    {
     "data": {
      "text/plain": [
       "<IPython.core.display.Javascript object>"
      ]
     },
     "metadata": {},
     "output_type": "display_data"
    }
   ],
   "source": [
    "f\"{(norm_form == '').sum()}/{norm_form.shape[0]} wells have no normalized formations\""
   ]
  },
  {
   "cell_type": "code",
   "execution_count": 43,
   "metadata": {},
   "outputs": [
    {
     "data": {
      "text/plain": [
       "[' - 4175',\n",
       " 'CLEVELAND - 482',\n",
       " 'COTTAGE GROVE - 4',\n",
       " 'DES MOINES - 74',\n",
       " 'GRANITE WASH - 487',\n",
       " 'HOXBAR - 99',\n",
       " 'MARMATON - 276',\n",
       " 'MERAMEC - 4084',\n",
       " 'MISS LIME - 2455',\n",
       " 'OSAGE - 670',\n",
       " 'OSWEGO - 375',\n",
       " 'SPRINGER - 1142',\n",
       " 'SYCAMORE - 94',\n",
       " 'TONKAWA - 15',\n",
       " 'WOODFORD - 5322']"
      ]
     },
     "execution_count": 43,
     "metadata": {},
     "output_type": "execute_result"
    },
    {
     "data": {
      "text/plain": [
       "<IPython.core.display.Javascript object>"
      ]
     },
     "metadata": {},
     "output_type": "display_data"
    }
   ],
   "source": [
    "[f\"{x} - {(norm_form == x).sum()}\" for x in np.unique(norm_form)]"
   ]
  },
  {
   "cell_type": "code",
   "execution_count": 44,
   "metadata": {},
   "outputs": [
    {
     "data": {
      "text/plain": [
       "<IPython.core.display.Javascript object>"
      ]
     },
     "metadata": {},
     "output_type": "display_data"
    }
   ],
   "source": [
    "df[\"norm_form\"] = norm_form"
   ]
  },
  {
   "cell_type": "code",
   "execution_count": 45,
   "metadata": {},
   "outputs": [
    {
     "data": {
      "text/plain": [
       "<IPython.core.display.Javascript object>"
      ]
     },
     "metadata": {},
     "output_type": "display_data"
    }
   ],
   "source": [
    "df.loc[\n",
    "    :,\n",
    "    [\n",
    "        \"id\",\n",
    "        \"api\",\n",
    "        \"well_name\",\n",
    "        \"trsm_heh\",\n",
    "        \"operator_name\",\n",
    "        \"well_completion\",\n",
    "        \"norm_form\",\n",
    "    ],\n",
    "].rename(columns={\"norm_form\": \"formation\"}).reset_index(drop=True).to_pickle(\n",
    "    \"../data/eff_sec_form_norm.pickle\"\n",
    ")"
   ]
  },
  {
   "cell_type": "code",
   "execution_count": null,
   "metadata": {},
   "outputs": [],
   "source": []
  },
  {
   "cell_type": "code",
   "execution_count": null,
   "metadata": {},
   "outputs": [],
   "source": []
  },
  {
   "cell_type": "code",
   "execution_count": null,
   "metadata": {},
   "outputs": [],
   "source": []
  },
  {
   "cell_type": "code",
   "execution_count": null,
   "metadata": {},
   "outputs": [],
   "source": []
  },
  {
   "cell_type": "code",
   "execution_count": null,
   "metadata": {},
   "outputs": [],
   "source": []
  },
  {
   "cell_type": "code",
   "execution_count": null,
   "metadata": {},
   "outputs": [],
   "source": []
  },
  {
   "cell_type": "code",
   "execution_count": null,
   "metadata": {},
   "outputs": [],
   "source": []
  },
  {
   "cell_type": "code",
   "execution_count": null,
   "metadata": {},
   "outputs": [],
   "source": []
  }
 ],
 "metadata": {
  "kernelspec": {
   "display_name": "Python 3",
   "language": "python",
   "name": "python3"
  },
  "language_info": {
   "codemirror_mode": {
    "name": "ipython",
    "version": 3
   },
   "file_extension": ".py",
   "mimetype": "text/x-python",
   "name": "python",
   "nbconvert_exporter": "python",
   "pygments_lexer": "ipython3",
   "version": "3.6.7"
  },
  "pycharm": {
   "stem_cell": {
    "cell_type": "raw",
    "source": [],
    "metadata": {
     "collapsed": false
    }
   }
  }
 },
 "nbformat": 4,
 "nbformat_minor": 2
}