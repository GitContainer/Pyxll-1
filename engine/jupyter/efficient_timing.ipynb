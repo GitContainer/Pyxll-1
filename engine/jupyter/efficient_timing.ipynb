{
 "cells": [
  {
   "cell_type": "markdown",
   "metadata": {},
   "source": [
    "# Timing"
   ]
  },
  {
   "cell_type": "code",
   "execution_count": 1,
   "metadata": {},
   "outputs": [],
   "source": [
    "import pandas as pd\n",
    "import numpy as np\n",
    "import pickle\n",
    "import pyodbc\n",
    "import os\n",
    "import sys\n",
    "\n",
    "sys.path.append(\"S:\\\\Engineering\\\\01. Development\\\\Financial Engine\\\\\")\n",
    "\n",
    "from utils.pandas_utils import *\n",
    "from utils.custom_tfs import *\n",
    "from numba import jit, prange\n",
    "import matplotlib.pyplot as plt\n",
    "import datetime\n",
    "%matplotlib inline"
   ]
  },
  {
   "cell_type": "code",
   "execution_count": 2,
   "metadata": {},
   "outputs": [
    {
     "data": {
      "application/javascript": [
       "\n",
       "        setTimeout(function() {\n",
       "            var nbb_cell_id = 2;\n",
       "            var nbb_formatted_code = \"%load_ext nb_black\";\n",
       "            var nbb_cells = Jupyter.notebook.get_cells();\n",
       "            for (var i = 0; i < nbb_cells.length; ++i) {\n",
       "                if (nbb_cells[i].input_prompt_number == nbb_cell_id) {\n",
       "                    nbb_cells[i].set_text(nbb_formatted_code);\n",
       "                    break;\n",
       "                }\n",
       "            }\n",
       "        }, 500);\n",
       "        "
      ],
      "text/plain": [
       "<IPython.core.display.Javascript object>"
      ]
     },
     "metadata": {},
     "output_type": "display_data"
    }
   ],
   "source": [
    "%load_ext nb_black"
   ]
  },
  {
   "cell_type": "code",
   "execution_count": 3,
   "metadata": {},
   "outputs": [
    {
     "data": {
      "application/javascript": [
       "\n",
       "        setTimeout(function() {\n",
       "            var nbb_cell_id = 3;\n",
       "            var nbb_formatted_code = \"# db connections\\ndriver = \\\"{ODBC Driver 17 for SQL Server}\\\"\\nserver = \\\"syntax-dev-sql.database.windows.net\\\"\\nport = 1443\\n\\nuser = os.environ[\\\"ALLSQUARE_USERNAME\\\"]\\npwd = os.environ[\\\"ALLSQUARE_PASSWORD\\\"]\\nauth = \\\"ActiveDirectoryPassword\\\"\\ncnxns = dict()\\ndbs = [\\\"syntax_processed\\\", \\\"syntax_dev\\\", \\\"syntax_dev_hist\\\", \\\"stg_cg_export\\\"]\\nfor db in dbs:\\n    cnxn_string = f\\\"DRIVER={driver};PORT={port};SERVER={server};PORT={port};DATABASE={db};UID={user};PWD={pwd};Authentication={auth}\\\"\\n    cnxns[db] = pyodbc.connect(cnxn_string)\";\n",
       "            var nbb_cells = Jupyter.notebook.get_cells();\n",
       "            for (var i = 0; i < nbb_cells.length; ++i) {\n",
       "                if (nbb_cells[i].input_prompt_number == nbb_cell_id) {\n",
       "                    nbb_cells[i].set_text(nbb_formatted_code);\n",
       "                    break;\n",
       "                }\n",
       "            }\n",
       "        }, 500);\n",
       "        "
      ],
      "text/plain": [
       "<IPython.core.display.Javascript object>"
      ]
     },
     "metadata": {},
     "output_type": "display_data"
    }
   ],
   "source": [
    "# db connections\n",
    "driver = \"{ODBC Driver 17 for SQL Server}\"\n",
    "server = \"syntax-dev-sql.database.windows.net\"\n",
    "port = 1443\n",
    "\n",
    "user = os.environ[\"ALLSQUARE_USERNAME\"]\n",
    "pwd = os.environ[\"ALLSQUARE_PASSWORD\"]\n",
    "auth = \"ActiveDirectoryPassword\"\n",
    "cnxns = dict()\n",
    "dbs = [\"syntax_processed\", \"syntax_dev\", \"syntax_dev_hist\", \"stg_cg_export\"]\n",
    "for db in dbs:\n",
    "    cnxn_string = f\"DRIVER={driver};PORT={port};SERVER={server};PORT={port};DATABASE={db};UID={user};PWD={pwd};Authentication={auth}\"\n",
    "    cnxns[db] = pyodbc.connect(cnxn_string)"
   ]
  },
  {
   "cell_type": "markdown",
   "metadata": {},
   "source": [
    "## Data Needed:\n",
    "1. Increased Density\n",
    "2. f1000\n",
    "3. f1001\n",
    "4. f1002\n",
    "5. Section Assumption"
   ]
  },
  {
   "cell_type": "code",
   "execution_count": 4,
   "metadata": {},
   "outputs": [
    {
     "data": {
      "application/javascript": [
       "\n",
       "        setTimeout(function() {\n",
       "            var nbb_cell_id = 4;\n",
       "            var nbb_formatted_code = \"get_index_well = \\\"\\\"\\\"\\nSELECT\\n    api\\n    from dbo.index_well\\nwhere is_horizontal = 1\\n\\\"\\\"\\\"\";\n",
       "            var nbb_cells = Jupyter.notebook.get_cells();\n",
       "            for (var i = 0; i < nbb_cells.length; ++i) {\n",
       "                if (nbb_cells[i].input_prompt_number == nbb_cell_id) {\n",
       "                    nbb_cells[i].set_text(nbb_formatted_code);\n",
       "                    break;\n",
       "                }\n",
       "            }\n",
       "        }, 500);\n",
       "        "
      ],
      "text/plain": [
       "<IPython.core.display.Javascript object>"
      ]
     },
     "metadata": {},
     "output_type": "display_data"
    }
   ],
   "source": [
    "get_index_well = \"\"\"\n",
    "SELECT\n",
    "    api\n",
    "    from dbo.index_well\n",
    "where is_horizontal = 1\n",
    "\"\"\""
   ]
  },
  {
   "cell_type": "code",
   "execution_count": 5,
   "metadata": {},
   "outputs": [
    {
     "data": {
      "application/javascript": [
       "\n",
       "        setTimeout(function() {\n",
       "            var nbb_cell_id = 5;\n",
       "            var nbb_formatted_code = \"horizontal_wells = (\\n    pd.read_sql(get_index_well, cnxns[\\\"stg_cg_export\\\"])\\n    .pipe(ccast, ([\\\"api\\\"], tf_api))\\n    .api.unique()\\n)\";\n",
       "            var nbb_cells = Jupyter.notebook.get_cells();\n",
       "            for (var i = 0; i < nbb_cells.length; ++i) {\n",
       "                if (nbb_cells[i].input_prompt_number == nbb_cell_id) {\n",
       "                    nbb_cells[i].set_text(nbb_formatted_code);\n",
       "                    break;\n",
       "                }\n",
       "            }\n",
       "        }, 500);\n",
       "        "
      ],
      "text/plain": [
       "<IPython.core.display.Javascript object>"
      ]
     },
     "metadata": {},
     "output_type": "display_data"
    }
   ],
   "source": [
    "horizontal_wells = (\n",
    "    pd.read_sql(get_index_well, cnxns[\"stg_cg_export\"])\n",
    "    .pipe(ccast, ([\"api\"], tf_api))\n",
    "    .api.unique()\n",
    ")"
   ]
  },
  {
   "cell_type": "code",
   "execution_count": 6,
   "metadata": {},
   "outputs": [
    {
     "data": {
      "application/javascript": [
       "\n",
       "        setTimeout(function() {\n",
       "            var nbb_cell_id = 6;\n",
       "            var nbb_formatted_code = \"get_inc_den = \\\"\\\"\\\"\\nSELECT\\n [Cause Number] as cause_number,\\n trsm_heh,\\n [Number of Additional Wells] as nwells,\\n [Order Type] as order_type,\\n [App or Order] as app_order,\\n [date_app] as app_date,\\n [date_order] as order_date\\nFROM  dbo.reg_id; \\n\\\"\\\"\\\"\";\n",
       "            var nbb_cells = Jupyter.notebook.get_cells();\n",
       "            for (var i = 0; i < nbb_cells.length; ++i) {\n",
       "                if (nbb_cells[i].input_prompt_number == nbb_cell_id) {\n",
       "                    nbb_cells[i].set_text(nbb_formatted_code);\n",
       "                    break;\n",
       "                }\n",
       "            }\n",
       "        }, 500);\n",
       "        "
      ],
      "text/plain": [
       "<IPython.core.display.Javascript object>"
      ]
     },
     "metadata": {},
     "output_type": "display_data"
    }
   ],
   "source": [
    "get_inc_den = \"\"\"\n",
    "SELECT\n",
    " [Cause Number] as cause_number,\n",
    " trsm_heh,\n",
    " [Number of Additional Wells] as nwells,\n",
    " [Order Type] as order_type,\n",
    " [App or Order] as app_order,\n",
    " [date_app] as app_date,\n",
    " [date_order] as order_date\n",
    "FROM  dbo.reg_id; \n",
    "\"\"\""
   ]
  },
  {
   "cell_type": "code",
   "execution_count": 7,
   "metadata": {},
   "outputs": [
    {
     "data": {
      "application/javascript": [
       "\n",
       "        setTimeout(function() {\n",
       "            var nbb_cell_id = 7;\n",
       "            var nbb_formatted_code = \"remove_order_types = [\\\"Dismissed\\\", \\\"Order Denying Motion\\\"]\";\n",
       "            var nbb_cells = Jupyter.notebook.get_cells();\n",
       "            for (var i = 0; i < nbb_cells.length; ++i) {\n",
       "                if (nbb_cells[i].input_prompt_number == nbb_cell_id) {\n",
       "                    nbb_cells[i].set_text(nbb_formatted_code);\n",
       "                    break;\n",
       "                }\n",
       "            }\n",
       "        }, 500);\n",
       "        "
      ],
      "text/plain": [
       "<IPython.core.display.Javascript object>"
      ]
     },
     "metadata": {},
     "output_type": "display_data"
    }
   ],
   "source": [
    "remove_order_types = [\"Dismissed\", \"Order Denying Motion\"]"
   ]
  },
  {
   "cell_type": "code",
   "execution_count": 8,
   "metadata": {},
   "outputs": [
    {
     "data": {
      "application/javascript": [
       "\n",
       "        setTimeout(function() {\n",
       "            var nbb_cell_id = 8;\n",
       "            var nbb_formatted_code = \"incden = (\\n    pd.read_sql(get_inc_den, cnxns[\\\"syntax_dev_hist\\\"])\\n    .pipe(ccast, ([\\\"app_date\\\", \\\"order_date\\\"], tf_date))\\n    .pipe(ccast, ([\\\"nwells\\\"], tf_number_wells))\\n    .pipe(ccast, ([\\\"cause_number\\\"], tf_cause_number))\\n)\";\n",
       "            var nbb_cells = Jupyter.notebook.get_cells();\n",
       "            for (var i = 0; i < nbb_cells.length; ++i) {\n",
       "                if (nbb_cells[i].input_prompt_number == nbb_cell_id) {\n",
       "                    nbb_cells[i].set_text(nbb_formatted_code);\n",
       "                    break;\n",
       "                }\n",
       "            }\n",
       "        }, 500);\n",
       "        "
      ],
      "text/plain": [
       "<IPython.core.display.Javascript object>"
      ]
     },
     "metadata": {},
     "output_type": "display_data"
    }
   ],
   "source": [
    "incden = (\n",
    "    pd.read_sql(get_inc_den, cnxns[\"syntax_dev_hist\"])\n",
    "    .pipe(ccast, ([\"app_date\", \"order_date\"], tf_date))\n",
    "    .pipe(ccast, ([\"nwells\"], tf_number_wells))\n",
    "    .pipe(ccast, ([\"cause_number\"], tf_cause_number))\n",
    ")"
   ]
  },
  {
   "cell_type": "code",
   "execution_count": 9,
   "metadata": {},
   "outputs": [
    {
     "data": {
      "application/javascript": [
       "\n",
       "        setTimeout(function() {\n",
       "            var nbb_cell_id = 9;\n",
       "            var nbb_formatted_code = \"incden_app_sec = (\\n    incden.query(\\\"app_order == 'App'\\\")\\n    .reset_index(drop=True)\\n    .groupby(\\\"trsm_heh\\\", as_index=False)\\n    .agg({\\\"app_date\\\": \\\"last\\\", \\\"nwells\\\": \\\"last\\\"})\\n    .reset_index(drop=True)\\n    .pipe(csetcols, cols=[\\\"trsm_heh\\\", \\\"app_date\\\", \\\"app_nwells\\\"])\\n)\";\n",
       "            var nbb_cells = Jupyter.notebook.get_cells();\n",
       "            for (var i = 0; i < nbb_cells.length; ++i) {\n",
       "                if (nbb_cells[i].input_prompt_number == nbb_cell_id) {\n",
       "                    nbb_cells[i].set_text(nbb_formatted_code);\n",
       "                    break;\n",
       "                }\n",
       "            }\n",
       "        }, 500);\n",
       "        "
      ],
      "text/plain": [
       "<IPython.core.display.Javascript object>"
      ]
     },
     "metadata": {},
     "output_type": "display_data"
    }
   ],
   "source": [
    "incden_app_sec = (\n",
    "    incden.query(\"app_order == 'App'\")\n",
    "    .reset_index(drop=True)\n",
    "    .groupby(\"trsm_heh\", as_index=False)\n",
    "    .agg({\"app_date\": \"last\", \"nwells\": \"last\"})\n",
    "    .reset_index(drop=True)\n",
    "    .pipe(csetcols, cols=[\"trsm_heh\", \"app_date\", \"app_nwells\"])\n",
    ")"
   ]
  },
  {
   "cell_type": "code",
   "execution_count": 10,
   "metadata": {},
   "outputs": [
    {
     "data": {
      "application/javascript": [
       "\n",
       "        setTimeout(function() {\n",
       "            var nbb_cell_id = 10;\n",
       "            var nbb_formatted_code = \"incden_order_sec = (\\n    incden.query(\\n        \\\"app_order == 'Order' and order_type not in @remove_order_types\\\"\\n    )\\n    .reset_index(drop=True)\\n    .groupby(\\\"trsm_heh\\\", as_index=False)\\n    .agg({\\\"order_date\\\": \\\"last\\\", \\\"nwells\\\": \\\"last\\\"})\\n    .reset_index(drop=True)\\n    .pipe(csetcols, cols=[\\\"trsm_heh\\\", \\\"order_date\\\", \\\"order_nwells\\\"])\\n)\";\n",
       "            var nbb_cells = Jupyter.notebook.get_cells();\n",
       "            for (var i = 0; i < nbb_cells.length; ++i) {\n",
       "                if (nbb_cells[i].input_prompt_number == nbb_cell_id) {\n",
       "                    nbb_cells[i].set_text(nbb_formatted_code);\n",
       "                    break;\n",
       "                }\n",
       "            }\n",
       "        }, 500);\n",
       "        "
      ],
      "text/plain": [
       "<IPython.core.display.Javascript object>"
      ]
     },
     "metadata": {},
     "output_type": "display_data"
    }
   ],
   "source": [
    "incden_order_sec = (\n",
    "    incden.query(\n",
    "        \"app_order == 'Order' and order_type not in @remove_order_types\"\n",
    "    )\n",
    "    .reset_index(drop=True)\n",
    "    .groupby(\"trsm_heh\", as_index=False)\n",
    "    .agg({\"order_date\": \"last\", \"nwells\": \"last\"})\n",
    "    .reset_index(drop=True)\n",
    "    .pipe(csetcols, cols=[\"trsm_heh\", \"order_date\", \"order_nwells\"])\n",
    ")"
   ]
  },
  {
   "cell_type": "markdown",
   "metadata": {},
   "source": [
    "## Index well to map api to sections"
   ]
  },
  {
   "cell_type": "code",
   "execution_count": 11,
   "metadata": {},
   "outputs": [
    {
     "data": {
      "application/javascript": [
       "\n",
       "        setTimeout(function() {\n",
       "            var nbb_cell_id = 11;\n",
       "            var nbb_formatted_code = \"get_api_section = \\\"\\\"\\\"\\nSELECT \\n    api,\\n    trsm_heh\\nFROM dbo.index_well_land\\nWHERE use_for_allocation = 1\\n\\\"\\\"\\\"\";\n",
       "            var nbb_cells = Jupyter.notebook.get_cells();\n",
       "            for (var i = 0; i < nbb_cells.length; ++i) {\n",
       "                if (nbb_cells[i].input_prompt_number == nbb_cell_id) {\n",
       "                    nbb_cells[i].set_text(nbb_formatted_code);\n",
       "                    break;\n",
       "                }\n",
       "            }\n",
       "        }, 500);\n",
       "        "
      ],
      "text/plain": [
       "<IPython.core.display.Javascript object>"
      ]
     },
     "metadata": {},
     "output_type": "display_data"
    }
   ],
   "source": [
    "get_api_section = \"\"\"\n",
    "SELECT \n",
    "    api,\n",
    "    trsm_heh\n",
    "FROM dbo.index_well_land\n",
    "WHERE use_for_allocation = 1\n",
    "\"\"\""
   ]
  },
  {
   "cell_type": "code",
   "execution_count": 12,
   "metadata": {},
   "outputs": [
    {
     "data": {
      "application/javascript": [
       "\n",
       "        setTimeout(function() {\n",
       "            var nbb_cell_id = 12;\n",
       "            var nbb_formatted_code = \"api_section = pd.read_sql(get_api_section, cnxns[\\\"stg_cg_export\\\"]).pipe(\\n    ccast, ([\\\"api\\\"], tf_api)\\n)\";\n",
       "            var nbb_cells = Jupyter.notebook.get_cells();\n",
       "            for (var i = 0; i < nbb_cells.length; ++i) {\n",
       "                if (nbb_cells[i].input_prompt_number == nbb_cell_id) {\n",
       "                    nbb_cells[i].set_text(nbb_formatted_code);\n",
       "                    break;\n",
       "                }\n",
       "            }\n",
       "        }, 500);\n",
       "        "
      ],
      "text/plain": [
       "<IPython.core.display.Javascript object>"
      ]
     },
     "metadata": {},
     "output_type": "display_data"
    }
   ],
   "source": [
    "api_section = pd.read_sql(get_api_section, cnxns[\"stg_cg_export\"]).pipe(\n",
    "    ccast, ([\"api\"], tf_api)\n",
    ")"
   ]
  },
  {
   "cell_type": "markdown",
   "metadata": {},
   "source": [
    "## F1002a\n",
    " IP generator needs wells tagged with formations. Hence reading from the result of Formation Normalization"
   ]
  },
  {
   "cell_type": "code",
   "execution_count": 13,
   "metadata": {},
   "outputs": [
    {
     "data": {
      "application/javascript": [
       "\n",
       "        setTimeout(function() {\n",
       "            var nbb_cell_id = 13;\n",
       "            var nbb_formatted_code = \"f1002 = pd.read_pickle(\\\"../data/eff_sec_form_norm.pickle\\\")\\n\\nf1002 = f1002.pipe(ccast, ([\\\"api\\\"], tf_api)).pipe(\\n    ccast, ([\\\"formation\\\"], tf_formation)\\n)\\n\\nf1002_api = f1002.api.unique()\";\n",
       "            var nbb_cells = Jupyter.notebook.get_cells();\n",
       "            for (var i = 0; i < nbb_cells.length; ++i) {\n",
       "                if (nbb_cells[i].input_prompt_number == nbb_cell_id) {\n",
       "                    nbb_cells[i].set_text(nbb_formatted_code);\n",
       "                    break;\n",
       "                }\n",
       "            }\n",
       "        }, 500);\n",
       "        "
      ],
      "text/plain": [
       "<IPython.core.display.Javascript object>"
      ]
     },
     "metadata": {},
     "output_type": "display_data"
    }
   ],
   "source": [
    "f1002 = pd.read_pickle(\"../data/eff_sec_form_norm.pickle\")\n",
    "\n",
    "f1002 = f1002.pipe(ccast, ([\"api\"], tf_api)).pipe(\n",
    "    ccast, ([\"formation\"], tf_formation)\n",
    ")\n",
    "\n",
    "f1002_api = f1002.api.unique()"
   ]
  },
  {
   "cell_type": "code",
   "execution_count": 14,
   "metadata": {},
   "outputs": [
    {
     "data": {
      "application/javascript": [
       "\n",
       "        setTimeout(function() {\n",
       "            var nbb_cell_id = 14;\n",
       "            var nbb_formatted_code = \"f1002_sec = (\\n    f1002.pipe(ccast, ([\\\"api\\\"], tf_api))\\n    .groupby([\\\"trsm_heh\\\", \\\"formation\\\"], as_index=False)\\n    .agg({\\\"well_completion\\\": [\\\"count\\\", \\\"last\\\"]})\\n    .reset_index(drop=True)\\n    .pipe(\\n        csetcols,\\n        cols=[\\\"trsm_heh\\\", \\\"formation\\\", \\\"f1002a_nwells\\\", \\\"f1002a_last_date\\\"],\\n    )\\n)\";\n",
       "            var nbb_cells = Jupyter.notebook.get_cells();\n",
       "            for (var i = 0; i < nbb_cells.length; ++i) {\n",
       "                if (nbb_cells[i].input_prompt_number == nbb_cell_id) {\n",
       "                    nbb_cells[i].set_text(nbb_formatted_code);\n",
       "                    break;\n",
       "                }\n",
       "            }\n",
       "        }, 500);\n",
       "        "
      ],
      "text/plain": [
       "<IPython.core.display.Javascript object>"
      ]
     },
     "metadata": {},
     "output_type": "display_data"
    }
   ],
   "source": [
    "f1002_sec = (\n",
    "    f1002.pipe(ccast, ([\"api\"], tf_api))\n",
    "    .groupby([\"trsm_heh\", \"formation\"], as_index=False)\n",
    "    .agg({\"well_completion\": [\"count\", \"last\"]})\n",
    "    .reset_index(drop=True)\n",
    "    .pipe(\n",
    "        csetcols,\n",
    "        cols=[\"trsm_heh\", \"formation\", \"f1002a_nwells\", \"f1002a_last_date\"],\n",
    "    )\n",
    ")"
   ]
  },
  {
   "cell_type": "markdown",
   "metadata": {},
   "source": [
    "## F1000"
   ]
  },
  {
   "cell_type": "code",
   "execution_count": 15,
   "metadata": {},
   "outputs": [
    {
     "data": {
      "application/javascript": [
       "\n",
       "        setTimeout(function() {\n",
       "            var nbb_cell_id = 15;\n",
       "            var nbb_formatted_code = \"get_f1000 = \\\"\\\"\\\"\\nSELECT \\n    api_syntax as api,\\n    date_effective as permit_date\\nFROM dbo.w_occ_1000;\\n\\\"\\\"\\\"\";\n",
       "            var nbb_cells = Jupyter.notebook.get_cells();\n",
       "            for (var i = 0; i < nbb_cells.length; ++i) {\n",
       "                if (nbb_cells[i].input_prompt_number == nbb_cell_id) {\n",
       "                    nbb_cells[i].set_text(nbb_formatted_code);\n",
       "                    break;\n",
       "                }\n",
       "            }\n",
       "        }, 500);\n",
       "        "
      ],
      "text/plain": [
       "<IPython.core.display.Javascript object>"
      ]
     },
     "metadata": {},
     "output_type": "display_data"
    }
   ],
   "source": [
    "get_f1000 = \"\"\"\n",
    "SELECT \n",
    "    api_syntax as api,\n",
    "    date_effective as permit_date\n",
    "FROM dbo.w_occ_1000;\n",
    "\"\"\""
   ]
  },
  {
   "cell_type": "code",
   "execution_count": 16,
   "metadata": {},
   "outputs": [
    {
     "data": {
      "application/javascript": [
       "\n",
       "        setTimeout(function() {\n",
       "            var nbb_cell_id = 16;\n",
       "            var nbb_formatted_code = \"f1000 = (\\n    pd.read_sql(get_f1000, cnxns[\\\"syntax_processed\\\"])\\n    .pipe(ccast, ([\\\"api\\\"], tf_api))\\n    .query(\\\"api not in @f1002_api and api in @horizontal_wells\\\")\\n    .pipe(ccast, ([\\\"permit_date\\\"], tf_date))\\n    .merge(api_section, on=\\\"api\\\")\\n    .sort_values([\\\"api\\\", \\\"trsm_heh\\\", \\\"permit_date\\\"], ascending=False)\\n    .groupby([\\\"api\\\", \\\"trsm_heh\\\"], as_index=False)\\n    .first()\\n    .reset_index(drop=True)\\n)\";\n",
       "            var nbb_cells = Jupyter.notebook.get_cells();\n",
       "            for (var i = 0; i < nbb_cells.length; ++i) {\n",
       "                if (nbb_cells[i].input_prompt_number == nbb_cell_id) {\n",
       "                    nbb_cells[i].set_text(nbb_formatted_code);\n",
       "                    break;\n",
       "                }\n",
       "            }\n",
       "        }, 500);\n",
       "        "
      ],
      "text/plain": [
       "<IPython.core.display.Javascript object>"
      ]
     },
     "metadata": {},
     "output_type": "display_data"
    }
   ],
   "source": [
    "f1000 = (\n",
    "    pd.read_sql(get_f1000, cnxns[\"syntax_processed\"])\n",
    "    .pipe(ccast, ([\"api\"], tf_api))\n",
    "    .query(\"api not in @f1002_api and api in @horizontal_wells\")\n",
    "    .pipe(ccast, ([\"permit_date\"], tf_date))\n",
    "    .merge(api_section, on=\"api\")\n",
    "    .sort_values([\"api\", \"trsm_heh\", \"permit_date\"], ascending=False)\n",
    "    .groupby([\"api\", \"trsm_heh\"], as_index=False)\n",
    "    .first()\n",
    "    .reset_index(drop=True)\n",
    ")"
   ]
  },
  {
   "cell_type": "code",
   "execution_count": 17,
   "metadata": {},
   "outputs": [
    {
     "data": {
      "application/javascript": [
       "\n",
       "        setTimeout(function() {\n",
       "            var nbb_cell_id = 17;\n",
       "            var nbb_formatted_code = \"assert (\\n    f1000.loc[:, [\\\"api\\\", \\\"trsm_heh\\\"]].drop_duplicates().shape[0]\\n    == f1000.shape[0]\\n), \\\"Duplicates API's in f1000\\\"\";\n",
       "            var nbb_cells = Jupyter.notebook.get_cells();\n",
       "            for (var i = 0; i < nbb_cells.length; ++i) {\n",
       "                if (nbb_cells[i].input_prompt_number == nbb_cell_id) {\n",
       "                    nbb_cells[i].set_text(nbb_formatted_code);\n",
       "                    break;\n",
       "                }\n",
       "            }\n",
       "        }, 500);\n",
       "        "
      ],
      "text/plain": [
       "<IPython.core.display.Javascript object>"
      ]
     },
     "metadata": {},
     "output_type": "display_data"
    }
   ],
   "source": [
    "assert (\n",
    "    f1000.loc[:, [\"api\", \"trsm_heh\"]].drop_duplicates().shape[0]\n",
    "    == f1000.shape[0]\n",
    "), \"Duplicates API's in f1000\""
   ]
  },
  {
   "cell_type": "code",
   "execution_count": 18,
   "metadata": {},
   "outputs": [
    {
     "data": {
      "application/javascript": [
       "\n",
       "        setTimeout(function() {\n",
       "            var nbb_cell_id = 18;\n",
       "            var nbb_formatted_code = \"f1000_sec = (\\n    f1000.groupby([\\\"trsm_heh\\\"], as_index=False)\\n    .agg({\\\"permit_date\\\": [\\\"count\\\", \\\"last\\\", \\\"first\\\"]})\\n    .reset_index(drop=True)\\n    .pipe(\\n        csetcols,\\n        cols=[\\n            \\\"trsm_heh\\\",\\n            \\\"f1000_nwells\\\",\\n            \\\"f1000_last_date\\\",\\n            \\\"f1000_first_date\\\",\\n        ],\\n    )\\n)\";\n",
       "            var nbb_cells = Jupyter.notebook.get_cells();\n",
       "            for (var i = 0; i < nbb_cells.length; ++i) {\n",
       "                if (nbb_cells[i].input_prompt_number == nbb_cell_id) {\n",
       "                    nbb_cells[i].set_text(nbb_formatted_code);\n",
       "                    break;\n",
       "                }\n",
       "            }\n",
       "        }, 500);\n",
       "        "
      ],
      "text/plain": [
       "<IPython.core.display.Javascript object>"
      ]
     },
     "metadata": {},
     "output_type": "display_data"
    }
   ],
   "source": [
    "f1000_sec = (\n",
    "    f1000.groupby([\"trsm_heh\"], as_index=False)\n",
    "    .agg({\"permit_date\": [\"count\", \"last\", \"first\"]})\n",
    "    .reset_index(drop=True)\n",
    "    .pipe(\n",
    "        csetcols,\n",
    "        cols=[\n",
    "            \"trsm_heh\",\n",
    "            \"f1000_nwells\",\n",
    "            \"f1000_last_date\",\n",
    "            \"f1000_first_date\",\n",
    "        ],\n",
    "    )\n",
    ")"
   ]
  },
  {
   "cell_type": "markdown",
   "metadata": {},
   "source": [
    "## F1001"
   ]
  },
  {
   "cell_type": "code",
   "execution_count": 19,
   "metadata": {},
   "outputs": [
    {
     "data": {
      "application/javascript": [
       "\n",
       "        setTimeout(function() {\n",
       "            var nbb_cell_id = 19;\n",
       "            var nbb_formatted_code = \"get_f1001 = \\\"\\\"\\\"\\nSELECT \\n    api_syntax as api,\\n    date_effective as spud_date\\nFROM dbo.w_occ_1001;\\n\\\"\\\"\\\"\";\n",
       "            var nbb_cells = Jupyter.notebook.get_cells();\n",
       "            for (var i = 0; i < nbb_cells.length; ++i) {\n",
       "                if (nbb_cells[i].input_prompt_number == nbb_cell_id) {\n",
       "                    nbb_cells[i].set_text(nbb_formatted_code);\n",
       "                    break;\n",
       "                }\n",
       "            }\n",
       "        }, 500);\n",
       "        "
      ],
      "text/plain": [
       "<IPython.core.display.Javascript object>"
      ]
     },
     "metadata": {},
     "output_type": "display_data"
    }
   ],
   "source": [
    "get_f1001 = \"\"\"\n",
    "SELECT \n",
    "    api_syntax as api,\n",
    "    date_effective as spud_date\n",
    "FROM dbo.w_occ_1001;\n",
    "\"\"\""
   ]
  },
  {
   "cell_type": "code",
   "execution_count": 20,
   "metadata": {},
   "outputs": [
    {
     "data": {
      "application/javascript": [
       "\n",
       "        setTimeout(function() {\n",
       "            var nbb_cell_id = 20;\n",
       "            var nbb_formatted_code = \"f1001 = (\\n    pd.read_sql(get_f1001, cnxns[\\\"syntax_processed\\\"])\\n    .pipe(ccast, ([\\\"api\\\"], tf_api))\\n    .query(\\\"api not in @f1002_api and api in @horizontal_wells\\\")\\n    .pipe(ccast, ([\\\"spud_date\\\"], tf_date))\\n    .merge(api_section, on=\\\"api\\\")\\n    .sort_values([\\\"api\\\", \\\"trsm_heh\\\", \\\"spud_date\\\"], ascending=False)\\n    .groupby([\\\"api\\\", \\\"trsm_heh\\\"], as_index=False)\\n    .first()\\n    .reset_index(drop=True)\\n)\";\n",
       "            var nbb_cells = Jupyter.notebook.get_cells();\n",
       "            for (var i = 0; i < nbb_cells.length; ++i) {\n",
       "                if (nbb_cells[i].input_prompt_number == nbb_cell_id) {\n",
       "                    nbb_cells[i].set_text(nbb_formatted_code);\n",
       "                    break;\n",
       "                }\n",
       "            }\n",
       "        }, 500);\n",
       "        "
      ],
      "text/plain": [
       "<IPython.core.display.Javascript object>"
      ]
     },
     "metadata": {},
     "output_type": "display_data"
    }
   ],
   "source": [
    "f1001 = (\n",
    "    pd.read_sql(get_f1001, cnxns[\"syntax_processed\"])\n",
    "    .pipe(ccast, ([\"api\"], tf_api))\n",
    "    .query(\"api not in @f1002_api and api in @horizontal_wells\")\n",
    "    .pipe(ccast, ([\"spud_date\"], tf_date))\n",
    "    .merge(api_section, on=\"api\")\n",
    "    .sort_values([\"api\", \"trsm_heh\", \"spud_date\"], ascending=False)\n",
    "    .groupby([\"api\", \"trsm_heh\"], as_index=False)\n",
    "    .first()\n",
    "    .reset_index(drop=True)\n",
    ")"
   ]
  },
  {
   "cell_type": "code",
   "execution_count": 21,
   "metadata": {},
   "outputs": [
    {
     "data": {
      "application/javascript": [
       "\n",
       "        setTimeout(function() {\n",
       "            var nbb_cell_id = 21;\n",
       "            var nbb_formatted_code = \"assert (\\n    f1001.loc[:, [\\\"api\\\", \\\"trsm_heh\\\"]].drop_duplicates().shape[0]\\n    == f1001.shape[0]\\n), \\\"Duplicates API's in f1001\\\"\";\n",
       "            var nbb_cells = Jupyter.notebook.get_cells();\n",
       "            for (var i = 0; i < nbb_cells.length; ++i) {\n",
       "                if (nbb_cells[i].input_prompt_number == nbb_cell_id) {\n",
       "                    nbb_cells[i].set_text(nbb_formatted_code);\n",
       "                    break;\n",
       "                }\n",
       "            }\n",
       "        }, 500);\n",
       "        "
      ],
      "text/plain": [
       "<IPython.core.display.Javascript object>"
      ]
     },
     "metadata": {},
     "output_type": "display_data"
    }
   ],
   "source": [
    "assert (\n",
    "    f1001.loc[:, [\"api\", \"trsm_heh\"]].drop_duplicates().shape[0]\n",
    "    == f1001.shape[0]\n",
    "), \"Duplicates API's in f1001\""
   ]
  },
  {
   "cell_type": "code",
   "execution_count": 22,
   "metadata": {},
   "outputs": [
    {
     "data": {
      "application/javascript": [
       "\n",
       "        setTimeout(function() {\n",
       "            var nbb_cell_id = 22;\n",
       "            var nbb_formatted_code = \"f1001_sec = (\\n    f1001.groupby([\\\"trsm_heh\\\"], as_index=False)\\n    .agg({\\\"spud_date\\\": [\\\"count\\\", \\\"last\\\", \\\"first\\\"]})\\n    .reset_index(drop=True)\\n    .pipe(\\n        csetcols,\\n        cols=[\\n            \\\"trsm_heh\\\",\\n            \\\"f1001_nwells\\\",\\n            \\\"f1001_last_date\\\",\\n            \\\"f1001_first_date\\\",\\n        ],\\n    )\\n)\";\n",
       "            var nbb_cells = Jupyter.notebook.get_cells();\n",
       "            for (var i = 0; i < nbb_cells.length; ++i) {\n",
       "                if (nbb_cells[i].input_prompt_number == nbb_cell_id) {\n",
       "                    nbb_cells[i].set_text(nbb_formatted_code);\n",
       "                    break;\n",
       "                }\n",
       "            }\n",
       "        }, 500);\n",
       "        "
      ],
      "text/plain": [
       "<IPython.core.display.Javascript object>"
      ]
     },
     "metadata": {},
     "output_type": "display_data"
    }
   ],
   "source": [
    "f1001_sec = (\n",
    "    f1001.groupby([\"trsm_heh\"], as_index=False)\n",
    "    .agg({\"spud_date\": [\"count\", \"last\", \"first\"]})\n",
    "    .reset_index(drop=True)\n",
    "    .pipe(\n",
    "        csetcols,\n",
    "        cols=[\n",
    "            \"trsm_heh\",\n",
    "            \"f1001_nwells\",\n",
    "            \"f1001_last_date\",\n",
    "            \"f1001_first_date\",\n",
    "        ],\n",
    "    )\n",
    ")"
   ]
  },
  {
   "cell_type": "markdown",
   "metadata": {},
   "source": [
    "## Section Assumption"
   ]
  },
  {
   "cell_type": "code",
   "execution_count": 23,
   "metadata": {},
   "outputs": [
    {
     "name": "stderr",
     "output_type": "stream",
     "text": [
      "C:\\Anaconda\\envs\\env_full\\lib\\site-packages\\IPython\\core\\interactiveshell.py:3020: DtypeWarning: Columns (8) have mixed types. Specify dtype option on import or set low_memory=False.\n",
      "  interactivity=interactivity, compiler=compiler, result=result)\n"
     ]
    },
    {
     "data": {
      "application/javascript": [
       "\n",
       "        setTimeout(function() {\n",
       "            var nbb_cell_id = 23;\n",
       "            var nbb_formatted_code = \"sec_ass = (\\n    pd.read_csv(\\\"../data/section_assumption.csv\\\")\\n    .pipe(\\n        ccast,\\n        (\\n            [\\\"nwells_1\\\", \\\"tolerance_1\\\", \\\"nwells_2\\\", \\\"tolerance_2\\\"],\\n            tf_number_wells,\\n        ),\\n    )\\n    .pipe(ccast, ([\\\"section_acres\\\"], tf_section_acres))\\n    .pipe(ccast, ([\\\"formation_1\\\", \\\"formation_2\\\"], tf_formation))\\n)\";\n",
       "            var nbb_cells = Jupyter.notebook.get_cells();\n",
       "            for (var i = 0; i < nbb_cells.length; ++i) {\n",
       "                if (nbb_cells[i].input_prompt_number == nbb_cell_id) {\n",
       "                    nbb_cells[i].set_text(nbb_formatted_code);\n",
       "                    break;\n",
       "                }\n",
       "            }\n",
       "        }, 500);\n",
       "        "
      ],
      "text/plain": [
       "<IPython.core.display.Javascript object>"
      ]
     },
     "metadata": {},
     "output_type": "display_data"
    }
   ],
   "source": [
    "sec_ass = (\n",
    "    pd.read_csv(\"../data/section_assumption.csv\")\n",
    "    .pipe(\n",
    "        ccast,\n",
    "        (\n",
    "            [\"nwells_1\", \"tolerance_1\", \"nwells_2\", \"tolerance_2\"],\n",
    "            tf_number_wells,\n",
    "        ),\n",
    "    )\n",
    "    .pipe(ccast, ([\"section_acres\"], tf_section_acres))\n",
    "    .pipe(ccast, ([\"formation_1\", \"formation_2\"], tf_formation))\n",
    ")"
   ]
  },
  {
   "cell_type": "markdown",
   "metadata": {},
   "source": [
    "### Timing logic is only applied to the zone 1. Only zone 1 will have current wells as well. For Secondary zones the timings and number of wells are set directly"
   ]
  },
  {
   "cell_type": "code",
   "execution_count": 90,
   "metadata": {},
   "outputs": [
    {
     "data": {
      "text/html": [
       "<div>\n",
       "<style scoped>\n",
       "    .dataframe tbody tr th:only-of-type {\n",
       "        vertical-align: middle;\n",
       "    }\n",
       "\n",
       "    .dataframe tbody tr th {\n",
       "        vertical-align: top;\n",
       "    }\n",
       "\n",
       "    .dataframe thead th {\n",
       "        text-align: right;\n",
       "    }\n",
       "</style>\n",
       "<table border=\"1\" class=\"dataframe\">\n",
       "  <thead>\n",
       "    <tr style=\"text-align: right;\">\n",
       "      <th></th>\n",
       "      <th>trsm_heh</th>\n",
       "      <th>formation</th>\n",
       "      <th>f1002a_nwells</th>\n",
       "      <th>f1002a_last_date</th>\n",
       "    </tr>\n",
       "  </thead>\n",
       "  <tbody>\n",
       "    <tr>\n",
       "      <th>0</th>\n",
       "      <td>01N-01E,28 IM</td>\n",
       "      <td>WOODFORD</td>\n",
       "      <td>1</td>\n",
       "      <td>2014-04-13</td>\n",
       "    </tr>\n",
       "    <tr>\n",
       "      <th>1</th>\n",
       "      <td>01N-01E,29 IM</td>\n",
       "      <td>WOODFORD</td>\n",
       "      <td>1</td>\n",
       "      <td>2016-12-19</td>\n",
       "    </tr>\n",
       "    <tr>\n",
       "      <th>2</th>\n",
       "      <td>01N-01W,16 IM</td>\n",
       "      <td>WOODFORD</td>\n",
       "      <td>1</td>\n",
       "      <td>2018-07-09</td>\n",
       "    </tr>\n",
       "    <tr>\n",
       "      <th>3</th>\n",
       "      <td>01N-01W,17 IM</td>\n",
       "      <td>WOODFORD</td>\n",
       "      <td>1</td>\n",
       "      <td>2018-07-09</td>\n",
       "    </tr>\n",
       "    <tr>\n",
       "      <th>4</th>\n",
       "      <td>01N-01W,19 IM</td>\n",
       "      <td>WOODFORD</td>\n",
       "      <td>1</td>\n",
       "      <td>2014-08-25</td>\n",
       "    </tr>\n",
       "  </tbody>\n",
       "</table>\n",
       "</div>"
      ],
      "text/plain": [
       "        trsm_heh formation  f1002a_nwells f1002a_last_date\n",
       "0  01N-01E,28 IM  WOODFORD              1       2014-04-13\n",
       "1  01N-01E,29 IM  WOODFORD              1       2016-12-19\n",
       "2  01N-01W,16 IM  WOODFORD              1       2018-07-09\n",
       "3  01N-01W,17 IM  WOODFORD              1       2018-07-09\n",
       "4  01N-01W,19 IM  WOODFORD              1       2014-08-25"
      ]
     },
     "execution_count": 90,
     "metadata": {},
     "output_type": "execute_result"
    },
    {
     "data": {
      "application/javascript": [
       "\n",
       "        setTimeout(function() {\n",
       "            var nbb_cell_id = 90;\n",
       "            var nbb_formatted_code = \"f1002_sec.head()\";\n",
       "            var nbb_cells = Jupyter.notebook.get_cells();\n",
       "            for (var i = 0; i < nbb_cells.length; ++i) {\n",
       "                if (nbb_cells[i].input_prompt_number == nbb_cell_id) {\n",
       "                    nbb_cells[i].set_text(nbb_formatted_code);\n",
       "                    break;\n",
       "                }\n",
       "            }\n",
       "        }, 500);\n",
       "        "
      ],
      "text/plain": [
       "<IPython.core.display.Javascript object>"
      ]
     },
     "metadata": {},
     "output_type": "display_data"
    }
   ],
   "source": [
    "f1002_sec.head()"
   ]
  },
  {
   "cell_type": "code",
   "execution_count": 112,
   "metadata": {},
   "outputs": [
    {
     "data": {
      "application/javascript": [
       "\n",
       "        setTimeout(function() {\n",
       "            var nbb_cell_id = 112;\n",
       "            var nbb_formatted_code = \"f1002a_f1 = (\\n    sec_ass.merge(\\n        f1002_sec,\\n        left_on=[\\\"trsm_heh\\\", \\\"formation_2\\\"],\\n        right_on=[\\\"trsm_heh\\\", \\\"formation\\\"],\\n        how=\\\"left\\\",\\n    )\\n    .loc[:, [\\\"trsm_heh\\\", \\\"f1002a_nwells\\\", \\\"f1002a_last_date\\\"]]\\n    .rename(\\n        columns={\\n            \\\"f1002a_nwells\\\": \\\"f1002a_nwells_f1\\\",\\n            \\\"f1002a_last_date\\\": \\\"f1002a_last_date_f1\\\",\\n        }\\n    )\\n)\\n\\nf1002a_f2 = (\\n    sec_ass.merge(\\n        f1002_sec,\\n        left_on=[\\\"trsm_heh\\\", \\\"formation_2\\\"],\\n        right_on=[\\\"trsm_heh\\\", \\\"formation\\\"],\\n        how=\\\"left\\\",\\n    )\\n    .loc[:, [\\\"trsm_heh\\\", \\\"f1002a_nwells\\\", \\\"f1002a_last_date\\\"]]\\n    .rename(\\n        columns={\\n            \\\"f1002a_nwells\\\": \\\"f1002a_nwells_f2\\\",\\n            \\\"f1002a_last_date\\\": \\\"f1002a_last_date_f2\\\",\\n        }\\n    )\\n)\";\n",
       "            var nbb_cells = Jupyter.notebook.get_cells();\n",
       "            for (var i = 0; i < nbb_cells.length; ++i) {\n",
       "                if (nbb_cells[i].input_prompt_number == nbb_cell_id) {\n",
       "                    nbb_cells[i].set_text(nbb_formatted_code);\n",
       "                    break;\n",
       "                }\n",
       "            }\n",
       "        }, 500);\n",
       "        "
      ],
      "text/plain": [
       "<IPython.core.display.Javascript object>"
      ]
     },
     "metadata": {},
     "output_type": "display_data"
    }
   ],
   "source": [
    "f1002a_f1 = (\n",
    "    sec_ass.merge(\n",
    "        f1002_sec,\n",
    "        left_on=[\"trsm_heh\", \"formation_2\"],\n",
    "        right_on=[\"trsm_heh\", \"formation\"],\n",
    "        how=\"left\",\n",
    "    )\n",
    "    .loc[:, [\"trsm_heh\", \"f1002a_nwells\", \"f1002a_last_date\"]]\n",
    "    .rename(\n",
    "        columns={\n",
    "            \"f1002a_nwells\": \"f1002a_nwells_f1\",\n",
    "            \"f1002a_last_date\": \"f1002a_last_date_f1\",\n",
    "        }\n",
    "    )\n",
    ")\n",
    "\n",
    "f1002a_f2 = (\n",
    "    sec_ass.merge(\n",
    "        f1002_sec,\n",
    "        left_on=[\"trsm_heh\", \"formation_2\"],\n",
    "        right_on=[\"trsm_heh\", \"formation\"],\n",
    "        how=\"left\",\n",
    "    )\n",
    "    .loc[:, [\"trsm_heh\", \"f1002a_nwells\", \"f1002a_last_date\"]]\n",
    "    .rename(\n",
    "        columns={\n",
    "            \"f1002a_nwells\": \"f1002a_nwells_f2\",\n",
    "            \"f1002a_last_date\": \"f1002a_last_date_f2\",\n",
    "        }\n",
    "    )\n",
    ")"
   ]
  },
  {
   "cell_type": "code",
   "execution_count": 113,
   "metadata": {},
   "outputs": [
    {
     "data": {
      "application/javascript": [
       "\n",
       "        setTimeout(function() {\n",
       "            var nbb_cell_id = 113;\n",
       "            var nbb_formatted_code = \"df = (\\n    sec_ass.merge(f1002a_f1, on=\\\"trsm_heh\\\", how=\\\"left\\\")\\n    .merge(f1002a_f2, on=\\\"trsm_heh\\\", how=\\\"left\\\")\\n    .merge(f1001_sec, on=\\\"trsm_heh\\\", how=\\\"left\\\")\\n    .merge(f1000_sec, on=\\\"trsm_heh\\\", how=\\\"left\\\")\\n    .merge(incden_order_sec, on=\\\"trsm_heh\\\", how=\\\"left\\\")\\n    .merge(incden_app_sec, on=\\\"trsm_heh\\\", how=\\\"left\\\")\\n)\";\n",
       "            var nbb_cells = Jupyter.notebook.get_cells();\n",
       "            for (var i = 0; i < nbb_cells.length; ++i) {\n",
       "                if (nbb_cells[i].input_prompt_number == nbb_cell_id) {\n",
       "                    nbb_cells[i].set_text(nbb_formatted_code);\n",
       "                    break;\n",
       "                }\n",
       "            }\n",
       "        }, 500);\n",
       "        "
      ],
      "text/plain": [
       "<IPython.core.display.Javascript object>"
      ]
     },
     "metadata": {},
     "output_type": "display_data"
    }
   ],
   "source": [
    "df = (\n",
    "    sec_ass.merge(f1002a_f1, on=\"trsm_heh\", how=\"left\")\n",
    "    .merge(f1002a_f2, on=\"trsm_heh\", how=\"left\")\n",
    "    .merge(f1001_sec, on=\"trsm_heh\", how=\"left\")\n",
    "    .merge(f1000_sec, on=\"trsm_heh\", how=\"left\")\n",
    "    .merge(incden_order_sec, on=\"trsm_heh\", how=\"left\")\n",
    "    .merge(incden_app_sec, on=\"trsm_heh\", how=\"left\")\n",
    ")"
   ]
  },
  {
   "cell_type": "markdown",
   "metadata": {},
   "source": [
    "## Timing Logic Starts Here"
   ]
  },
  {
   "cell_type": "code",
   "execution_count": 114,
   "metadata": {},
   "outputs": [
    {
     "data": {
      "application/javascript": [
       "\n",
       "        setTimeout(function() {\n",
       "            var nbb_cell_id = 114;\n",
       "            var nbb_formatted_code = \"num_cols = [\\n    \\\"nwells_1\\\",\\n    \\\"tolerance_1\\\",\\n    \\\"nwells_2\\\",\\n    \\\"tolerance_2\\\",\\n    \\\"f1001_nwells\\\",\\n    \\\"f1000_nwells\\\",\\n    \\\"app_nwells\\\",\\n    \\\"order_nwells\\\",\\n    \\\"f1002a_nwells_f1\\\",\\n    \\\"f1002a_nwells_f2\\\",\\n]\\n\\ndate_cols = [\\n    \\\"f1001_last_date\\\",\\n    \\\"f1001_first_date\\\",\\n    \\\"f1000_last_date\\\",\\n    \\\"f1000_first_date\\\",\\n    \\\"app_date\\\",\\n    \\\"order_date\\\",\\n    \\\"f1002a_last_date_f1\\\",\\n    \\\"f1002a_last_date_f2\\\",\\n]\";\n",
       "            var nbb_cells = Jupyter.notebook.get_cells();\n",
       "            for (var i = 0; i < nbb_cells.length; ++i) {\n",
       "                if (nbb_cells[i].input_prompt_number == nbb_cell_id) {\n",
       "                    nbb_cells[i].set_text(nbb_formatted_code);\n",
       "                    break;\n",
       "                }\n",
       "            }\n",
       "        }, 500);\n",
       "        "
      ],
      "text/plain": [
       "<IPython.core.display.Javascript object>"
      ]
     },
     "metadata": {},
     "output_type": "display_data"
    }
   ],
   "source": [
    "num_cols = [\n",
    "    \"nwells_1\",\n",
    "    \"tolerance_1\",\n",
    "    \"nwells_2\",\n",
    "    \"tolerance_2\",\n",
    "    \"f1001_nwells\",\n",
    "    \"f1000_nwells\",\n",
    "    \"app_nwells\",\n",
    "    \"order_nwells\",\n",
    "    \"f1002a_nwells_f1\",\n",
    "    \"f1002a_nwells_f2\",\n",
    "]\n",
    "\n",
    "date_cols = [\n",
    "    \"f1001_last_date\",\n",
    "    \"f1001_first_date\",\n",
    "    \"f1000_last_date\",\n",
    "    \"f1000_first_date\",\n",
    "    \"app_date\",\n",
    "    \"order_date\",\n",
    "    \"f1002a_last_date_f1\",\n",
    "    \"f1002a_last_date_f2\",\n",
    "]"
   ]
  },
  {
   "cell_type": "markdown",
   "metadata": {},
   "source": [
    "The below columns should be sent in the same format and order"
   ]
  },
  {
   "cell_type": "code",
   "execution_count": 116,
   "metadata": {},
   "outputs": [
    {
     "data": {
      "application/javascript": [
       "\n",
       "        setTimeout(function() {\n",
       "            var nbb_cell_id = 116;\n",
       "            var nbb_formatted_code = \"assert df.shape[0] == 71068, \\\"Missing Sections\\\"\";\n",
       "            var nbb_cells = Jupyter.notebook.get_cells();\n",
       "            for (var i = 0; i < nbb_cells.length; ++i) {\n",
       "                if (nbb_cells[i].input_prompt_number == nbb_cell_id) {\n",
       "                    nbb_cells[i].set_text(nbb_formatted_code);\n",
       "                    break;\n",
       "                }\n",
       "            }\n",
       "        }, 500);\n",
       "        "
      ],
      "text/plain": [
       "<IPython.core.display.Javascript object>"
      ]
     },
     "metadata": {},
     "output_type": "display_data"
    }
   ],
   "source": [
    "assert df.shape[0] == 71068, \"Missing Sections\""
   ]
  },
  {
   "cell_type": "code",
   "execution_count": 117,
   "metadata": {},
   "outputs": [
    {
     "data": {
      "application/javascript": [
       "\n",
       "        setTimeout(function() {\n",
       "            var nbb_cell_id = 117;\n",
       "            var nbb_formatted_code = \"well_numbers = df.loc[:, num_cols].apply(tf_number_wells).values.transpose()\\nwell_dates = (\\n    df.loc[:, date_cols].apply(pd.to_datetime).values.astype(\\\"<M8[D]\\\")\\n).transpose()\";\n",
       "            var nbb_cells = Jupyter.notebook.get_cells();\n",
       "            for (var i = 0; i < nbb_cells.length; ++i) {\n",
       "                if (nbb_cells[i].input_prompt_number == nbb_cell_id) {\n",
       "                    nbb_cells[i].set_text(nbb_formatted_code);\n",
       "                    break;\n",
       "                }\n",
       "            }\n",
       "        }, 500);\n",
       "        "
      ],
      "text/plain": [
       "<IPython.core.display.Javascript object>"
      ]
     },
     "metadata": {},
     "output_type": "display_data"
    }
   ],
   "source": [
    "well_numbers = df.loc[:, num_cols].apply(tf_number_wells).values.transpose()\n",
    "well_dates = (\n",
    "    df.loc[:, date_cols].apply(pd.to_datetime).values.astype(\"<M8[D]\")\n",
    ").transpose()"
   ]
  },
  {
   "cell_type": "code",
   "execution_count": 118,
   "metadata": {},
   "outputs": [
    {
     "data": {
      "application/javascript": [
       "\n",
       "        setTimeout(function() {\n",
       "            var nbb_cell_id = 118;\n",
       "            var nbb_formatted_code = \"# tolerance, spud_to_rig_release, frac_to_sales, permit_to_spud, idorder_to_spud, idapp_to_spud, days_ntg_f1_pd, days_ntg_f2_pd\\ntiming_dates = (45, 20, 45, 180, 365, 545, 365 * 3, 365 * 6)\\ntiming_dates = np.array([np.timedelta64(date, \\\"D\\\") for date in timing_dates])\\n\\ncurrent_dates = np.repeat(\\n    np.datetime64((datetime.datetime.now()).strftime(\\\"%Y-%m-%d\\\")).astype(\\n        \\\"<M8[D]\\\"\\n    ),\\n    well_numbers.shape[1],\\n)\\nph_date = np.repeat(\\n    np.datetime64(\\\"1900-01-01\\\", type=current_dates.dtype), well_numbers.shape[1]\\n)\";\n",
       "            var nbb_cells = Jupyter.notebook.get_cells();\n",
       "            for (var i = 0; i < nbb_cells.length; ++i) {\n",
       "                if (nbb_cells[i].input_prompt_number == nbb_cell_id) {\n",
       "                    nbb_cells[i].set_text(nbb_formatted_code);\n",
       "                    break;\n",
       "                }\n",
       "            }\n",
       "        }, 500);\n",
       "        "
      ],
      "text/plain": [
       "<IPython.core.display.Javascript object>"
      ]
     },
     "metadata": {},
     "output_type": "display_data"
    }
   ],
   "source": [
    "# tolerance, spud_to_rig_release, frac_to_sales, permit_to_spud, idorder_to_spud, idapp_to_spud, days_ntg_f1_pd, days_ntg_f2_pd\n",
    "timing_dates = (45, 20, 45, 180, 365, 545, 365 * 3, 365 * 6)\n",
    "timing_dates = np.array([np.timedelta64(date, \"D\") for date in timing_dates])\n",
    "\n",
    "current_dates = np.repeat(\n",
    "    np.datetime64((datetime.datetime.now()).strftime(\"%Y-%m-%d\")).astype(\n",
    "        \"<M8[D]\"\n",
    "    ),\n",
    "    well_numbers.shape[1],\n",
    ")\n",
    "ph_date = np.repeat(\n",
    "    np.datetime64(\"1900-01-01\", type=current_dates.dtype), well_numbers.shape[1]\n",
    ")"
   ]
  },
  {
   "cell_type": "code",
   "execution_count": 267,
   "metadata": {},
   "outputs": [
    {
     "data": {
      "application/javascript": [
       "\n",
       "        setTimeout(function() {\n",
       "            var nbb_cell_id = 267;\n",
       "            var nbb_formatted_code = \"def timing(well_numbers, well_dates, timing_dates, current_dates, ph_date):\\n    \\\"\\\"\\\"\\n        well_numbers = [\\n        \\\"nwells_1\\\", 0\\n        \\\"tolerance_1\\\", 1\\n        \\\"nwells_2\\\", 2\\n        \\\"tolerance_2\\\", 3\\n        \\\"f1001_nwells\\\", 4\\n        \\\"f1000_nwells\\\", 5\\n        \\\"app_nwells\\\", 6\\n        \\\"order_nwells\\\", 7\\n        \\\"f1002a_nwells_f1\\\", 8\\n        \\\"f1002a_nwells_f2\\\", 9\\n    ]\\n\\n    well_dates = [\\n        \\\"f1001_last_date\\\", 0\\n        \\\"f1001_first_date\\\", 1\\n        \\\"f1000_last_date\\\", 2\\n        \\\"f1000_first_date\\\", 3\\n        \\\"app_date\\\", 4\\n        \\\"order_date\\\", 5\\n        \\\"f1002a_last_date_f1\\\", 6\\n        \\\"f1002a_last_date_f2\\\", 7\\n    ]\\n\\n    timing_dates = [\\n        tolerance, 0\\n        spud_to_rig_release, 1\\n        frac_to_sales, 2\\n        permit_to_spud, 3\\n        idorder_to_spud, 4\\n        idapp_to_spud, 5\\n        days_ntg_f1_pd, 6\\n        days_ntg_f2_pd, 7\\n    ]\\n    \\\"\\\"\\\"\\n    nsections = well_numbers.shape[1]\\n\\n    # Primary zone array initialization\\n    nwells_curr = np.zeros(shape=nsections, dtype=well_numbers.dtype)\\n    nwells_fut = np.zeros(shape=nsections, dtype=well_numbers.dtype)\\n    formation = np.uint8(1) + np.zeros(\\n        shape=nsections, dtype=well_numbers.dtype\\n    )\\n\\n    spud_date_curr = ph_date.copy()\\n    sales_date_curr = spud_date_curr.copy()\\n\\n    spud_date_fut = spud_date_curr.copy()\\n    sales_date_fut = spud_date_curr.copy()\\n\\n    # Secondary zone array initialization\\n    nwells_curr_2 = np.zeros(shape=nsections, dtype=well_numbers.dtype)\\n    nwells_fut_2 = np.zeros(shape=nsections, dtype=well_numbers.dtype)\\n    formation_2 = np.uint8(2) + np.zeros(\\n        shape=nsections, dtype=well_numbers.dtype\\n    )\\n\\n    spud_date_curr_2 = ph_date.copy()\\n    sales_date_curr_2 = spud_date_curr.copy()\\n\\n    spud_date_fut_2 = spud_date_curr.copy()\\n    sales_date_fut_2 = spud_date_curr.copy()\\n\\n    for i in range(nsections):\\n\\n        # Primary Formation Calculation\\n        # If f1001 last_date is greateer than f1000 last date + tolerance then f1001 wells else f1000 nwells\\n        if well_numbers[4][i] > 0:\\n            if well_numbers[5][i] > 0:\\n                if well_dates[0][i] > well_dates[2][i] + timing_dates[0]:\\n                    nwells_curr[i] = well_numbers[4][i]\\n                else:\\n                    nwells_curr[i] = well_numbers[5][i]\\n            else:\\n                nwells_curr[i] = well_numbers[4][i]\\n\\n        # If f1000 last_date is greateer than ID order date + tolerance then f1000 wells else ID Order wells\\n        elif well_numbers[5][i] > 0:\\n            if well_numbers[7][i] > 0:\\n                if well_dates[2][i] > well_dates[5][i] + timing_dates[0]:\\n                    nwells_curr[i] = well_numbers[5][i]\\n                else:\\n                    nwells_curr[i] = well_numbers[7][i]\\n            else:\\n                nwells_curr[i] = well_numbers[5][i]\\n\\n        # If ID order exits then that\\n        elif well_numbers[7][i] > 0:\\n            nwells_curr[i] = well_numbers[7][i]\\n\\n        # If ID app exits then that\\n        elif well_numbers[6][i] > 0:\\n            nwells_curr[i] = well_numbers[6][i]\\n\\n        # If f1001 well exist then spud date for current wells is f1001 first well date\\n        if well_numbers[4][i] > 0 and well_dates[1][i] == well_dates[1][i]:\\n            spud_date_curr[i] = well_dates[1][i]\\n\\n        # If f1000 well exist then spud date for current wells is f1000 first well date + permit to spud\\n        elif well_numbers[5][i] > 0 and well_dates[3][i] == well_dates[3][i]:\\n            spud_date_curr[i] = well_dates[3][i] + timing_dates[3]\\n\\n        # If ID order exist then spud date for current wells is ID order date + idorder_to_spud\\n        elif well_numbers[7][i] > 0 and well_dates[5][i] == well_dates[5][i]:\\n            spud_date_curr[i] = well_dates[5][i] + timing_dates[4]\\n\\n        # If ID app exist then spud date for current wells is ID app date + idapp_to_spud\\n        elif well_numbers[6][i] > 0 and well_dates[4][i] == well_dates[4][i]:\\n            spud_date_curr[i] = well_dates[4][i] + timing_dates[5]\\n\\n        if nwells_curr[i] > 0:\\n            sales_date_curr[i] = (\\n                spud_date_curr[i]\\n                + (nwells_curr[i] * timing_dates[1])\\n                + timing_dates[2]\\n            )\\n\\n        # If current wells and PDP wells are less than tolerance 1 then assign the difference as future wells.\\n        if nwells_curr[i] + well_numbers[8][i] <= well_numbers[1][i]:\\n            nwells_fut[i] = well_numbers[0][i] - nwells_curr[i]\\n\\n        # If futre wells exist then spud date for future wells is current date + days ntg f1 prod.\\n        if nwells_fut[i] > 0:\\n            spud_date_fut[i] = current_dates[0] + timing_dates[6]\\n            sales_date_fut[i] = (\\n                spud_date_fut[i]\\n                + (nwells_fut[i] * timing_dates[1])\\n                + timing_dates[2]\\n            )\\n\\n        # Secondary Formation Calculation\\n        if well_numbers[9][i] >= well_numbers[3][i]:\\n            nwells_fut_2[i] = np.uint8(0)\\n        else:\\n            nwells_fut_2[i] = well_numbers[2][i] - well_numbers[9][i]\\n            spud_date_fut_2[i] = current_dates[0] + timing_dates[7]\\n            sales_date_fut_2[i] = (\\n                spud_date_fut_2[i]\\n                + (nwells_fut_2[i] * timing_dates[1])\\n                + timing_dates[2]\\n            )\\n\\n    return (\\n        nwells_curr,\\n        nwells_fut,\\n        spud_date_curr,\\n        sales_date_curr,\\n        spud_date_fut,\\n        sales_date_fut,\\n        nwells_curr_2,\\n        nwells_fut_2,\\n        spud_date_curr_2,\\n        sales_date_fut_2,\\n        spud_date_fut_2,\\n        sales_date_fut_2,\\n    )\";\n",
       "            var nbb_cells = Jupyter.notebook.get_cells();\n",
       "            for (var i = 0; i < nbb_cells.length; ++i) {\n",
       "                if (nbb_cells[i].input_prompt_number == nbb_cell_id) {\n",
       "                    nbb_cells[i].set_text(nbb_formatted_code);\n",
       "                    break;\n",
       "                }\n",
       "            }\n",
       "        }, 500);\n",
       "        "
      ],
      "text/plain": [
       "<IPython.core.display.Javascript object>"
      ]
     },
     "metadata": {},
     "output_type": "display_data"
    }
   ],
   "source": [
    "def timing(well_numbers, well_dates, timing_dates, current_dates, ph_date):\n",
    "    \"\"\"\n",
    "        well_numbers = [\n",
    "        \"nwells_1\", 0\n",
    "        \"tolerance_1\", 1\n",
    "        \"nwells_2\", 2\n",
    "        \"tolerance_2\", 3\n",
    "        \"f1001_nwells\", 4\n",
    "        \"f1000_nwells\", 5\n",
    "        \"app_nwells\", 6\n",
    "        \"order_nwells\", 7\n",
    "        \"f1002a_nwells_f1\", 8\n",
    "        \"f1002a_nwells_f2\", 9\n",
    "    ]\n",
    "\n",
    "    well_dates = [\n",
    "        \"f1001_last_date\", 0\n",
    "        \"f1001_first_date\", 1\n",
    "        \"f1000_last_date\", 2\n",
    "        \"f1000_first_date\", 3\n",
    "        \"app_date\", 4\n",
    "        \"order_date\", 5\n",
    "        \"f1002a_last_date_f1\", 6\n",
    "        \"f1002a_last_date_f2\", 7\n",
    "    ]\n",
    "\n",
    "    timing_dates = [\n",
    "        tolerance, 0\n",
    "        spud_to_rig_release, 1\n",
    "        frac_to_sales, 2\n",
    "        permit_to_spud, 3\n",
    "        idorder_to_spud, 4\n",
    "        idapp_to_spud, 5\n",
    "        days_ntg_f1_pd, 6\n",
    "        days_ntg_f2_pd, 7\n",
    "    ]\n",
    "    \"\"\"\n",
    "    nsections = well_numbers.shape[1]\n",
    "\n",
    "    # Primary zone array initialization\n",
    "    nwells_curr = np.zeros(shape=nsections, dtype=well_numbers.dtype)\n",
    "    nwells_fut = np.zeros(shape=nsections, dtype=well_numbers.dtype)\n",
    "    formation = np.uint8(1) + np.zeros(\n",
    "        shape=nsections, dtype=well_numbers.dtype\n",
    "    )\n",
    "\n",
    "    spud_date_curr = ph_date.copy()\n",
    "    sales_date_curr = spud_date_curr.copy()\n",
    "\n",
    "    spud_date_fut = spud_date_curr.copy()\n",
    "    sales_date_fut = spud_date_curr.copy()\n",
    "\n",
    "    # Secondary zone array initialization\n",
    "    nwells_curr_2 = np.zeros(shape=nsections, dtype=well_numbers.dtype)\n",
    "    nwells_fut_2 = np.zeros(shape=nsections, dtype=well_numbers.dtype)\n",
    "    formation_2 = np.uint8(2) + np.zeros(\n",
    "        shape=nsections, dtype=well_numbers.dtype\n",
    "    )\n",
    "\n",
    "    spud_date_curr_2 = ph_date.copy()\n",
    "    sales_date_curr_2 = spud_date_curr.copy()\n",
    "\n",
    "    spud_date_fut_2 = spud_date_curr.copy()\n",
    "    sales_date_fut_2 = spud_date_curr.copy()\n",
    "\n",
    "    for i in range(nsections):\n",
    "\n",
    "        # Primary Formation Calculation\n",
    "        # If f1001 last_date is greateer than f1000 last date + tolerance then f1001 wells else f1000 nwells\n",
    "        if well_numbers[4][i] > 0:\n",
    "            if well_numbers[5][i] > 0:\n",
    "                if well_dates[0][i] > well_dates[2][i] + timing_dates[0]:\n",
    "                    nwells_curr[i] = well_numbers[4][i]\n",
    "                else:\n",
    "                    nwells_curr[i] = well_numbers[5][i]\n",
    "            else:\n",
    "                nwells_curr[i] = well_numbers[4][i]\n",
    "\n",
    "        # If f1000 last_date is greateer than ID order date + tolerance then f1000 wells else ID Order wells\n",
    "        elif well_numbers[5][i] > 0:\n",
    "            if well_numbers[7][i] > 0:\n",
    "                if well_dates[2][i] > well_dates[5][i] + timing_dates[0]:\n",
    "                    nwells_curr[i] = well_numbers[5][i]\n",
    "                else:\n",
    "                    nwells_curr[i] = well_numbers[7][i]\n",
    "            else:\n",
    "                nwells_curr[i] = well_numbers[5][i]\n",
    "\n",
    "        # If ID order exits then that\n",
    "        elif well_numbers[7][i] > 0:\n",
    "            nwells_curr[i] = well_numbers[7][i]\n",
    "\n",
    "        # If ID app exits then that\n",
    "        elif well_numbers[6][i] > 0:\n",
    "            nwells_curr[i] = well_numbers[6][i]\n",
    "\n",
    "        # If f1001 well exist then spud date for current wells is f1001 first well date\n",
    "        if well_numbers[4][i] > 0 and well_dates[1][i] == well_dates[1][i]:\n",
    "            spud_date_curr[i] = well_dates[1][i]\n",
    "\n",
    "        # If f1000 well exist then spud date for current wells is f1000 first well date + permit to spud\n",
    "        elif well_numbers[5][i] > 0 and well_dates[3][i] == well_dates[3][i]:\n",
    "            spud_date_curr[i] = well_dates[3][i] + timing_dates[3]\n",
    "\n",
    "        # If ID order exist then spud date for current wells is ID order date + idorder_to_spud\n",
    "        elif well_numbers[7][i] > 0 and well_dates[5][i] == well_dates[5][i]:\n",
    "            spud_date_curr[i] = well_dates[5][i] + timing_dates[4]\n",
    "\n",
    "        # If ID app exist then spud date for current wells is ID app date + idapp_to_spud\n",
    "        elif well_numbers[6][i] > 0 and well_dates[4][i] == well_dates[4][i]:\n",
    "            spud_date_curr[i] = well_dates[4][i] + timing_dates[5]\n",
    "\n",
    "        if nwells_curr[i] > 0:\n",
    "            sales_date_curr[i] = (\n",
    "                spud_date_curr[i]\n",
    "                + (nwells_curr[i] * timing_dates[1])\n",
    "                + timing_dates[2]\n",
    "            )\n",
    "\n",
    "        # If current wells and PDP wells are less than tolerance 1 then assign the difference as future wells.\n",
    "        if nwells_curr[i] + well_numbers[8][i] <= well_numbers[1][i]:\n",
    "            nwells_fut[i] = well_numbers[0][i] - nwells_curr[i]\n",
    "\n",
    "        # If futre wells exist then spud date for future wells is current date + days ntg f1 prod.\n",
    "        if nwells_fut[i] > 0:\n",
    "            spud_date_fut[i] = current_dates[0] + timing_dates[6]\n",
    "            sales_date_fut[i] = (\n",
    "                spud_date_fut[i]\n",
    "                + (nwells_fut[i] * timing_dates[1])\n",
    "                + timing_dates[2]\n",
    "            )\n",
    "\n",
    "        # Secondary Formation Calculation\n",
    "        if well_numbers[9][i] >= well_numbers[3][i]:\n",
    "            nwells_fut_2[i] = np.uint8(0)\n",
    "        else:\n",
    "            nwells_fut_2[i] = well_numbers[2][i] - well_numbers[9][i]\n",
    "            spud_date_fut_2[i] = current_dates[0] + timing_dates[7]\n",
    "            sales_date_fut_2[i] = (\n",
    "                spud_date_fut_2[i]\n",
    "                + (nwells_fut_2[i] * timing_dates[1])\n",
    "                + timing_dates[2]\n",
    "            )\n",
    "\n",
    "    return (\n",
    "        nwells_curr,\n",
    "        nwells_fut,\n",
    "        spud_date_curr,\n",
    "        sales_date_curr,\n",
    "        spud_date_fut,\n",
    "        sales_date_fut,\n",
    "        nwells_curr_2,\n",
    "        nwells_fut_2,\n",
    "        spud_date_curr_2,\n",
    "        sales_date_fut_2,\n",
    "        spud_date_fut_2,\n",
    "        sales_date_fut_2,\n",
    "    )"
   ]
  },
  {
   "cell_type": "code",
   "execution_count": 268,
   "metadata": {},
   "outputs": [
    {
     "data": {
      "application/javascript": [
       "\n",
       "        setTimeout(function() {\n",
       "            var nbb_cell_id = 268;\n",
       "            var nbb_formatted_code = \"nb_timing = jit(timing, nopython=True, fastmath=True, error_model=\\\"numpy\\\")\";\n",
       "            var nbb_cells = Jupyter.notebook.get_cells();\n",
       "            for (var i = 0; i < nbb_cells.length; ++i) {\n",
       "                if (nbb_cells[i].input_prompt_number == nbb_cell_id) {\n",
       "                    nbb_cells[i].set_text(nbb_formatted_code);\n",
       "                    break;\n",
       "                }\n",
       "            }\n",
       "        }, 500);\n",
       "        "
      ],
      "text/plain": [
       "<IPython.core.display.Javascript object>"
      ]
     },
     "metadata": {},
     "output_type": "display_data"
    }
   ],
   "source": [
    "nb_timing = jit(timing, nopython=True, fastmath=True, error_model=\"numpy\")"
   ]
  },
  {
   "cell_type": "code",
   "execution_count": 269,
   "metadata": {},
   "outputs": [
    {
     "data": {
      "application/javascript": [
       "\n",
       "        setTimeout(function() {\n",
       "            var nbb_cell_id = 269;\n",
       "            var nbb_formatted_code = \"cols = [\\n    \\\"nwells_curr\\\",\\n    \\\"nwells_fut\\\",\\n    \\\"spud_date_curr\\\",\\n    \\\"sales_date_curr\\\",\\n    \\\"spud_date_fut\\\",\\n    \\\"sales_date_fut\\\",\\n    \\\"nwells_curr_2\\\",\\n    \\\"nwells_fut_2\\\",\\n    \\\"spud_date_curr_2\\\",\\n    \\\"sales_date_fut_2\\\",\\n    \\\"spud_date_fut_2\\\",\\n    \\\"sales_date_fut_2\\\",\\n]\";\n",
       "            var nbb_cells = Jupyter.notebook.get_cells();\n",
       "            for (var i = 0; i < nbb_cells.length; ++i) {\n",
       "                if (nbb_cells[i].input_prompt_number == nbb_cell_id) {\n",
       "                    nbb_cells[i].set_text(nbb_formatted_code);\n",
       "                    break;\n",
       "                }\n",
       "            }\n",
       "        }, 500);\n",
       "        "
      ],
      "text/plain": [
       "<IPython.core.display.Javascript object>"
      ]
     },
     "metadata": {},
     "output_type": "display_data"
    }
   ],
   "source": [
    "cols = [\n",
    "    \"nwells_curr\",\n",
    "    \"nwells_fut\",\n",
    "    \"spud_date_curr\",\n",
    "    \"sales_date_curr\",\n",
    "    \"spud_date_fut\",\n",
    "    \"sales_date_fut\",\n",
    "    \"nwells_curr_2\",\n",
    "    \"nwells_fut_2\",\n",
    "    \"spud_date_curr_2\",\n",
    "    \"sales_date_fut_2\",\n",
    "    \"spud_date_fut_2\",\n",
    "    \"sales_date_fut_2\",\n",
    "]"
   ]
  },
  {
   "cell_type": "code",
   "execution_count": 270,
   "metadata": {},
   "outputs": [
    {
     "name": "stdout",
     "output_type": "stream",
     "text": [
      "2.05 s ± 75.6 ms per loop (mean ± std. dev. of 7 runs, 1 loop each)\n"
     ]
    },
    {
     "data": {
      "application/javascript": [
       "\n",
       "        setTimeout(function() {\n",
       "            var nbb_cell_id = 270;\n",
       "            var nbb_formatted_code = \"%%timeit\\ntiming(well_numbers, well_dates, timing_dates, current_dates, ph_date)\";\n",
       "            var nbb_cells = Jupyter.notebook.get_cells();\n",
       "            for (var i = 0; i < nbb_cells.length; ++i) {\n",
       "                if (nbb_cells[i].input_prompt_number == nbb_cell_id) {\n",
       "                    nbb_cells[i].set_text(nbb_formatted_code);\n",
       "                    break;\n",
       "                }\n",
       "            }\n",
       "        }, 500);\n",
       "        "
      ],
      "text/plain": [
       "<IPython.core.display.Javascript object>"
      ]
     },
     "metadata": {},
     "output_type": "display_data"
    }
   ],
   "source": [
    "%%timeit\n",
    "timing(well_numbers, well_dates, timing_dates, current_dates, ph_date)"
   ]
  },
  {
   "cell_type": "code",
   "execution_count": 272,
   "metadata": {},
   "outputs": [
    {
     "name": "stdout",
     "output_type": "stream",
     "text": [
      "1.96 ms ± 63.6 µs per loop (mean ± std. dev. of 7 runs, 100 loops each)\n"
     ]
    },
    {
     "data": {
      "application/javascript": [
       "\n",
       "        setTimeout(function() {\n",
       "            var nbb_cell_id = 272;\n",
       "            var nbb_formatted_code = \"%%timeit\\nnb_timing(well_numbers, well_dates, timing_dates, current_dates, ph_date)\";\n",
       "            var nbb_cells = Jupyter.notebook.get_cells();\n",
       "            for (var i = 0; i < nbb_cells.length; ++i) {\n",
       "                if (nbb_cells[i].input_prompt_number == nbb_cell_id) {\n",
       "                    nbb_cells[i].set_text(nbb_formatted_code);\n",
       "                    break;\n",
       "                }\n",
       "            }\n",
       "        }, 500);\n",
       "        "
      ],
      "text/plain": [
       "<IPython.core.display.Javascript object>"
      ]
     },
     "metadata": {},
     "output_type": "display_data"
    }
   ],
   "source": [
    "%%timeit\n",
    "nb_timing(well_numbers, well_dates, timing_dates, current_dates, ph_date)"
   ]
  },
  {
   "cell_type": "code",
   "execution_count": 273,
   "metadata": {},
   "outputs": [
    {
     "data": {
      "application/javascript": [
       "\n",
       "        setTimeout(function() {\n",
       "            var nbb_cell_id = 273;\n",
       "            var nbb_formatted_code = \"timing_cols = [\\n    \\\"nwells_curr\\\",\\n    \\\"nwells_fut\\\",\\n    \\\"spud_date_curr\\\",\\n    \\\"sales_date_curr\\\",\\n    \\\"spud_date_fut\\\",\\n    \\\"sales_date_fut\\\",\\n    \\\"nwells_curr_2\\\",\\n    \\\"nwells_fut_2\\\",\\n    \\\"spud_date_curr_2\\\",\\n    \\\"sales_date_fut_2\\\",\\n    \\\"spud_date_fut_2\\\",\\n    \\\"sales_date_fut_2\\\",\\n]\";\n",
       "            var nbb_cells = Jupyter.notebook.get_cells();\n",
       "            for (var i = 0; i < nbb_cells.length; ++i) {\n",
       "                if (nbb_cells[i].input_prompt_number == nbb_cell_id) {\n",
       "                    nbb_cells[i].set_text(nbb_formatted_code);\n",
       "                    break;\n",
       "                }\n",
       "            }\n",
       "        }, 500);\n",
       "        "
      ],
      "text/plain": [
       "<IPython.core.display.Javascript object>"
      ]
     },
     "metadata": {},
     "output_type": "display_data"
    }
   ],
   "source": [
    "timing_cols = [\n",
    "    \"nwells_curr\",\n",
    "    \"nwells_fut\",\n",
    "    \"spud_date_curr\",\n",
    "    \"sales_date_curr\",\n",
    "    \"spud_date_fut\",\n",
    "    \"sales_date_fut\",\n",
    "    \"nwells_curr_2\",\n",
    "    \"nwells_fut_2\",\n",
    "    \"spud_date_curr_2\",\n",
    "    \"sales_date_fut_2\",\n",
    "    \"spud_date_fut_2\",\n",
    "    \"sales_date_fut_2\",\n",
    "]"
   ]
  },
  {
   "cell_type": "code",
   "execution_count": 274,
   "metadata": {},
   "outputs": [
    {
     "data": {
      "application/javascript": [
       "\n",
       "        setTimeout(function() {\n",
       "            var nbb_cell_id = 274;\n",
       "            var nbb_formatted_code = \"timings = pd.DataFrame(\\n    np.array(\\n        nb_timing(\\n            well_numbers, well_dates, timing_dates, current_dates, ph_date\\n        )\\n    ).transpose(),\\n    columns=timing_cols,\\n)\";\n",
       "            var nbb_cells = Jupyter.notebook.get_cells();\n",
       "            for (var i = 0; i < nbb_cells.length; ++i) {\n",
       "                if (nbb_cells[i].input_prompt_number == nbb_cell_id) {\n",
       "                    nbb_cells[i].set_text(nbb_formatted_code);\n",
       "                    break;\n",
       "                }\n",
       "            }\n",
       "        }, 500);\n",
       "        "
      ],
      "text/plain": [
       "<IPython.core.display.Javascript object>"
      ]
     },
     "metadata": {},
     "output_type": "display_data"
    }
   ],
   "source": [
    "timings = pd.DataFrame(\n",
    "    np.array(\n",
    "        nb_timing(\n",
    "            well_numbers, well_dates, timing_dates, current_dates, ph_date\n",
    "        )\n",
    "    ).transpose(),\n",
    "    columns=timing_cols,\n",
    ")"
   ]
  },
  {
   "cell_type": "code",
   "execution_count": 275,
   "metadata": {},
   "outputs": [
    {
     "data": {
      "application/javascript": [
       "\n",
       "        setTimeout(function() {\n",
       "            var nbb_cell_id = 275;\n",
       "            var nbb_formatted_code = \"timings = timings.pipe(\\n    ccast, ([cols for cols in timing_cols if \\\"nwells\\\" in cols], np.uint8)\\n).pipe(ccast, ([cols for cols in timing_cols if \\\"date\\\" in cols], tf_date))\";\n",
       "            var nbb_cells = Jupyter.notebook.get_cells();\n",
       "            for (var i = 0; i < nbb_cells.length; ++i) {\n",
       "                if (nbb_cells[i].input_prompt_number == nbb_cell_id) {\n",
       "                    nbb_cells[i].set_text(nbb_formatted_code);\n",
       "                    break;\n",
       "                }\n",
       "            }\n",
       "        }, 500);\n",
       "        "
      ],
      "text/plain": [
       "<IPython.core.display.Javascript object>"
      ]
     },
     "metadata": {},
     "output_type": "display_data"
    }
   ],
   "source": [
    "timings = timings.pipe(\n",
    "    ccast, ([cols for cols in timing_cols if \"nwells\" in cols], np.uint8)\n",
    ").pipe(ccast, ([cols for cols in timing_cols if \"date\" in cols], tf_date))"
   ]
  },
  {
   "cell_type": "code",
   "execution_count": null,
   "metadata": {},
   "outputs": [],
   "source": []
  },
  {
   "cell_type": "code",
   "execution_count": null,
   "metadata": {},
   "outputs": [],
   "source": []
  },
  {
   "cell_type": "code",
   "execution_count": null,
   "metadata": {},
   "outputs": [],
   "source": []
  },
  {
   "cell_type": "code",
   "execution_count": null,
   "metadata": {},
   "outputs": [],
   "source": []
  },
  {
   "cell_type": "code",
   "execution_count": null,
   "metadata": {},
   "outputs": [],
   "source": []
  },
  {
   "cell_type": "code",
   "execution_count": null,
   "metadata": {},
   "outputs": [],
   "source": []
  },
  {
   "cell_type": "code",
   "execution_count": null,
   "metadata": {},
   "outputs": [],
   "source": []
  },
  {
   "cell_type": "code",
   "execution_count": null,
   "metadata": {},
   "outputs": [],
   "source": []
  },
  {
   "cell_type": "code",
   "execution_count": null,
   "metadata": {},
   "outputs": [],
   "source": []
  },
  {
   "cell_type": "code",
   "execution_count": null,
   "metadata": {},
   "outputs": [],
   "source": []
  },
  {
   "cell_type": "code",
   "execution_count": null,
   "metadata": {},
   "outputs": [],
   "source": []
  },
  {
   "cell_type": "code",
   "execution_count": null,
   "metadata": {},
   "outputs": [],
   "source": []
  },
  {
   "cell_type": "code",
   "execution_count": null,
   "metadata": {},
   "outputs": [],
   "source": []
  },
  {
   "cell_type": "code",
   "execution_count": null,
   "metadata": {},
   "outputs": [],
   "source": []
  },
  {
   "cell_type": "code",
   "execution_count": null,
   "metadata": {},
   "outputs": [],
   "source": []
  },
  {
   "cell_type": "code",
   "execution_count": null,
   "metadata": {},
   "outputs": [],
   "source": []
  },
  {
   "cell_type": "code",
   "execution_count": null,
   "metadata": {},
   "outputs": [],
   "source": []
  },
  {
   "cell_type": "code",
   "execution_count": null,
   "metadata": {},
   "outputs": [],
   "source": []
  },
  {
   "cell_type": "code",
   "execution_count": null,
   "metadata": {},
   "outputs": [],
   "source": []
  },
  {
   "cell_type": "code",
   "execution_count": null,
   "metadata": {},
   "outputs": [],
   "source": []
  },
  {
   "cell_type": "code",
   "execution_count": null,
   "metadata": {},
   "outputs": [],
   "source": []
  }
 ],
 "metadata": {
  "kernelspec": {
   "display_name": "Python 3",
   "language": "python",
   "name": "python3"
  },
  "language_info": {
   "codemirror_mode": {
    "name": "ipython",
    "version": 3
   },
   "file_extension": ".py",
   "mimetype": "text/x-python",
   "name": "python",
   "nbconvert_exporter": "python",
   "pygments_lexer": "ipython3",
   "version": "3.6.7"
  }
 },
 "nbformat": 4,
 "nbformat_minor": 2
}
