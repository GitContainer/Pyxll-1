{
 "cells": [
  {
   "cell_type": "markdown",
   "metadata": {
    "collapsed": false
   },
   "source": [
    "# Prototype Pyxll functions"
   ]
  },
  {
   "cell_type": "code",
   "execution_count": 2,
   "metadata": {
    "collapsed": false,
    "pycharm": {
     "name": "#%%\n",
     "is_executing": false
    }
   },
   "outputs": [
    {
     "data": {
      "text/plain": "<IPython.core.display.Javascript object>",
      "application/javascript": "\n        setTimeout(function() {\n            var nbb_cell_id = 2;\n            var nbb_formatted_code = \"from fm_data_formatter import FMDataFormatter\\nfrom fm_data_loader import FMDataLoader\\nfrom fm_data_manager import FMDataManager\\nfrom generic_fns import load_config_path\\nfrom generic_ui import create_query_manager\\n%load_ext autoreload\\n%load_ext nb_black\\n%autoreload 2\";\n            var nbb_cells = Jupyter.notebook.get_cells();\n            for (var i = 0; i < nbb_cells.length; ++i) {\n                if (nbb_cells[i].input_prompt_number == nbb_cell_id) {\n                    nbb_cells[i].set_text(nbb_formatted_code);\n                    break;\n                }\n            }\n        }, 500);\n        "
     },
     "metadata": {},
     "output_type": "display_data"
    }
   ],
   "source": [
    "from fm_data_formatter import FMDataFormatter\n",
    "from fm_data_loader import FMDataLoader\n",
    "from fm_data_manager import FMDataManager\n",
    "from generic_fns import    load_config_path\n",
    "from generic_ui import  create_query_manager\n",
    "%load_ext autoreload\n",
    "%load_ext nb_black\n",
    "%autoreload 2"
   ]
  },
  {
   "cell_type": "code",
   "execution_count": 3,
   "metadata": {
    "collapsed": false,
    "pycharm": {
     "name": "#%%\n",
     "is_executing": false
    }
   },
   "outputs": [
    {
     "data": {
      "text/plain": "<IPython.core.display.Javascript object>",
      "application/javascript": "\n        setTimeout(function() {\n            var nbb_cell_id = 3;\n            var nbb_formatted_code = \"from generic_debugger import (\\n    connect_to_excel,\\n    check_jupyter_excel_connection,\\n    kill_excel_bg,\\n    load_modules_from_config,\\n)\";\n            var nbb_cells = Jupyter.notebook.get_cells();\n            for (var i = 0; i < nbb_cells.length; ++i) {\n                if (nbb_cells[i].input_prompt_number == nbb_cell_id) {\n                    nbb_cells[i].set_text(nbb_formatted_code);\n                    break;\n                }\n            }\n        }, 500);\n        "
     },
     "metadata": {},
     "output_type": "display_data"
    }
   ],
   "source": [
    "from generic_debugger import \\\n",
    "    (connect_to_excel,\n",
    "     check_jupyter_excel_connection,\n",
    "     kill_excel_bg, load_modules_from_config)"
   ]
  },
  {
   "cell_type": "code",
   "execution_count": 4,
   "metadata": {
    "pycharm": {
     "is_executing": false
    }
   },
   "outputs": [
    {
     "name": "stdout",
     "text": [
      "[]\n['C:\\\\Users\\\\makad\\\\AppData\\\\Roaming\\\\Microsoft\\\\Excel\\\\financial_model (version 1).xlsb', 'C:\\\\Users\\\\makad\\\\AppData\\\\Roaming\\\\Microsoft\\\\Excel\\\\~$financial_model (version 1).xlsb']\n"
     ],
     "output_type": "stream"
    },
    {
     "data": {
      "text/plain": "<IPython.core.display.Javascript object>",
      "application/javascript": "\n        setTimeout(function() {\n            var nbb_cell_id = 4;\n            var nbb_formatted_code = \"kill_excel_bg()\";\n            var nbb_cells = Jupyter.notebook.get_cells();\n            for (var i = 0; i < nbb_cells.length; ++i) {\n                if (nbb_cells[i].input_prompt_number == nbb_cell_id) {\n                    nbb_cells[i].set_text(nbb_formatted_code);\n                    break;\n                }\n            }\n        }, 500);\n        "
     },
     "metadata": {},
     "output_type": "display_data"
    }
   ],
   "source": [
    "kill_excel_bg()  \n"
   ]
  },
  {
   "cell_type": "code",
   "execution_count": 5,
   "metadata": {
    "collapsed": false,
    "pycharm": {
     "name": "#%%\n",
     "is_executing": false
    }
   },
   "outputs": [
    {
     "data": {
      "text/plain": "'financial_model (version 1).xlsb is connected'"
     },
     "metadata": {},
     "output_type": "execute_result",
     "execution_count": 5
    },
    {
     "data": {
      "text/plain": "<IPython.core.display.Javascript object>",
      "application/javascript": "\n        setTimeout(function() {\n            var nbb_cell_id = 5;\n            var nbb_formatted_code = \"pyxll_cfg = \\\"C:/Pyxll/pyxll-4.1.1-x64-py36/pyxll.cfg\\\"\\nload_modules_from_config(pyxll_cfg)\\nxl = connect_to_excel()\\nassert check_jupyter_excel_connection(xl), \\\"Not connected to excel\\\"\\nf\\\"{xl.ActiveWorkbook.Name} is connected\\\"\";\n            var nbb_cells = Jupyter.notebook.get_cells();\n            for (var i = 0; i < nbb_cells.length; ++i) {\n                if (nbb_cells[i].input_prompt_number == nbb_cell_id) {\n                    nbb_cells[i].set_text(nbb_formatted_code);\n                    break;\n                }\n            }\n        }, 500);\n        "
     },
     "metadata": {},
     "output_type": "display_data"
    }
   ],
   "source": [
    "pyxll_cfg = \"C:/Pyxll/pyxll-4.1.1-x64-py36/pyxll.cfg\"\n",
    "load_modules_from_config(pyxll_cfg)\n",
    "xl = connect_to_excel()\n",
    "assert check_jupyter_excel_connection(xl), \"Not connected to excel\"\n",
    "f\"{xl.ActiveWorkbook.Name} is connected\""
   ]
  },
  {
   "cell_type": "code",
   "execution_count": 6,
   "metadata": {
    "collapsed": false,
    "pycharm": {
     "name": "#%%\n",
     "is_executing": false
    }
   },
   "outputs": [
    {
     "data": {
      "text/plain": "<IPython.core.display.Javascript object>",
      "application/javascript": "\n        setTimeout(function() {\n            var nbb_cell_id = 6;\n            var nbb_formatted_code = \"db_file = (\\n    \\\"E:/OneDrive/Work/Pyxll/financial_model/backup/named/test_random_988.fm\\\"\\n)\\nfm_cfg = \\\"E:/OneDrive/Work/Pyxll/financial_model/fm_config.ini\\\"\\n\\ncfg = load_config_path(fm_cfg)\";\n            var nbb_cells = Jupyter.notebook.get_cells();\n            for (var i = 0; i < nbb_cells.length; ++i) {\n                if (nbb_cells[i].input_prompt_number == nbb_cell_id) {\n                    nbb_cells[i].set_text(nbb_formatted_code);\n                    break;\n                }\n            }\n        }, 500);\n        "
     },
     "metadata": {},
     "output_type": "display_data"
    }
   ],
   "source": [
    "db_file = \"E:/OneDrive/Work/Pyxll/financial_model/backup/named/test_random_988.fm\"\n",
    "fm_cfg = \"E:/OneDrive/Work/Pyxll/financial_model/fm_config.ini\"\n",
    "\n",
    "cfg = load_config_path(fm_cfg)"
   ]
  },
  {
   "cell_type": "code",
   "execution_count": 7,
   "outputs": [
    {
     "data": {
      "text/plain": "<IPython.core.display.Javascript object>",
      "application/javascript": "\n        setTimeout(function() {\n            var nbb_cell_id = 7;\n            var nbb_formatted_code = \"source_connector = None\\nquery_manager = create_query_manager(xl=xl)\\n\\ndata_loader = FMDataLoader()\\ndata_formatter = FMDataFormatter()\\n\\ndm = FMDataManager(\\n    cfg=cfg,\\n    qm=query_manager,\\n    sc=source_connector,\\n    dl=data_loader,\\n    df=data_formatter,\\n    restore=db_file,\\n)\";\n            var nbb_cells = Jupyter.notebook.get_cells();\n            for (var i = 0; i < nbb_cells.length; ++i) {\n                if (nbb_cells[i].input_prompt_number == nbb_cell_id) {\n                    nbb_cells[i].set_text(nbb_formatted_code);\n                    break;\n                }\n            }\n        }, 500);\n        "
     },
     "metadata": {},
     "output_type": "display_data"
    }
   ],
   "source": [
    "source_connector = None\n",
    "query_manager = create_query_manager(xl=xl)\n",
    "\n",
    "data_loader = FMDataLoader()\n",
    "data_formatter = FMDataFormatter()\n",
    "\n",
    "dm = FMDataManager(\n",
    "    cfg=cfg,\n",
    "    qm=query_manager,\n",
    "    sc=source_connector,\n",
    "    dl=data_loader,\n",
    "    df=data_formatter,\n",
    "    restore=db_file,\n",
    ")"
   ],
   "metadata": {
    "collapsed": false,
    "pycharm": {
     "name": "#%%\n",
     "is_executing": false
    }
   }
  },
  {
   "cell_type": "code",
   "execution_count": 8,
   "outputs": [
    {
     "data": {
      "text/plain": "<IPython.core.display.Javascript object>",
      "application/javascript": "\n        setTimeout(function() {\n            var nbb_cell_id = 8;\n            var nbb_formatted_code = \"columns = [\\n    \\\"api\\\",\\n    \\\"cum_oil\\\",\\n    \\\"max30_oil\\\",\\n    \\\"total_months_well_active\\\",\\n    \\\"cum_gas\\\",\\n    \\\"max30_gas\\\",\\n]\\npdp_prod = (\\n    dm[\\\"monthlies\\\"]\\n    .groupby(\\\"api\\\", as_index=False)\\n    .agg({\\\"oil\\\": [\\\"sum\\\", \\\"max\\\", \\\"count\\\"], \\\"gas\\\": [\\\"sum\\\", \\\"max\\\"]})\\n    .reset_index(drop=True)\\n)\\npdp_prod.columns = columns\";\n            var nbb_cells = Jupyter.notebook.get_cells();\n            for (var i = 0; i < nbb_cells.length; ++i) {\n                if (nbb_cells[i].input_prompt_number == nbb_cell_id) {\n                    nbb_cells[i].set_text(nbb_formatted_code);\n                    break;\n                }\n            }\n        }, 500);\n        "
     },
     "metadata": {},
     "output_type": "display_data"
    }
   ],
   "source": [
    "columns = [\"api\", \"cum_oil\", \"max30_oil\", \"total_months_well_active\", \"cum_gas\", \"max30_gas\"]\n",
    "pdp_prod = dm[\"monthlies\"].groupby(\"api\", as_index=False).agg({\"oil\": [\"sum\", \"max\", \"count\"], \"gas\": [\"sum\", \"max\"]}).reset_index(drop=True)\n",
    "pdp_prod.columns = columns"
   ],
   "metadata": {
    "collapsed": false,
    "pycharm": {
     "name": "#%%\n",
     "is_executing": false
    }
   }
  },
  {
   "cell_type": "code",
   "execution_count": 9,
   "outputs": [
    {
     "data": {
      "text/plain": "<IPython.core.display.Javascript object>",
      "application/javascript": "\n        setTimeout(function() {\n            var nbb_cell_id = 9;\n            var nbb_formatted_code = \"df = (\\n    dm[\\\"f1000s\\\"]\\n    .assign(type=1)\\n    .merge(\\n        dm[\\\"f1001s\\\"].assign(type=1),\\n        on=\\\"api\\\",\\n        how=\\\"outer\\\",\\n        suffixes=(\\\"_f1000\\\", \\\"_f1001\\\"),\\n    )\\n    .merge(\\n        dm[\\\"f1002s\\\"].assign(type=1),\\n        on=\\\"api\\\",\\n        how=\\\"outer\\\",\\n        suffixes=(\\\"_f1001\\\", \\\"_f1002\\\"),\\n    )\\n    .merge(\\n        pdp_prod.assign(type=1),\\n        on=\\\"api\\\",\\n        how=\\\"outer\\\",\\n        suffixes=(\\\"_f1002\\\", \\\"_prod\\\"),\\n    )\\n)\";\n            var nbb_cells = Jupyter.notebook.get_cells();\n            for (var i = 0; i < nbb_cells.length; ++i) {\n                if (nbb_cells[i].input_prompt_number == nbb_cell_id) {\n                    nbb_cells[i].set_text(nbb_formatted_code);\n                    break;\n                }\n            }\n        }, 500);\n        "
     },
     "metadata": {},
     "output_type": "display_data"
    }
   ],
   "source": [
    "df = \\\n",
    "(\n",
    "    dm[\"f1000s\"].assign(type=1)\n",
    "    .merge(dm[\"f1001s\"].assign(type=1), on=\"api\", how=\"outer\", suffixes=(\"_f1000\", \"_f1001\"))\n",
    "    .merge(dm[\"f1002s\"].assign(type=1), on=\"api\", how=\"outer\", suffixes=(\"_f1001\", \"_f1002\"))\n",
    "    .merge(pdp_prod.assign(type=1), on=\"api\", how=\"outer\", suffixes=(\"_f1002\", \"_prod\"))\n",
    ")"
   ],
   "metadata": {
    "collapsed": false,
    "pycharm": {
     "name": "#%%\n",
     "is_executing": false
    }
   }
  },
  {
   "cell_type": "code",
   "execution_count": 10,
   "outputs": [
    {
     "data": {
      "text/plain": "<IPython.core.display.Javascript object>",
      "application/javascript": "\n        setTimeout(function() {\n            var nbb_cell_id = 10;\n            var nbb_formatted_code = \"import numpy as np\\n\\ntype = np.where(\\n    df.type_prod == 1,\\n    \\\"Producing\\\",\\n    np.where(\\n        df.type_f1002 == 1,\\n        \\\"Completed\\\",\\n        np.where(df.type_f1001 == 1, \\\"Spud\\\", \\\"Permitted\\\"),\\n    ),\\n)\\n\\nwell_name = np.where(\\n    df.well_name == df.well_name, df.well_name, np.where(df.well_name)\\n)\";\n            var nbb_cells = Jupyter.notebook.get_cells();\n            for (var i = 0; i < nbb_cells.length; ++i) {\n                if (nbb_cells[i].input_prompt_number == nbb_cell_id) {\n                    nbb_cells[i].set_text(nbb_formatted_code);\n                    break;\n                }\n            }\n        }, 500);\n        "
     },
     "metadata": {},
     "output_type": "display_data"
    }
   ],
   "source": [
    "import numpy as np\n",
    "type = np.where(\n",
    "    df.type_prod == 1,\n",
    "    \"Producing\",\n",
    "    np.where(\n",
    "        df.type_f1002 == 1,\n",
    "        \"Completed\",\n",
    "        np.where(df.type_f1001 == 1, \"Spud\", \"Permitted\"),\n",
    "    ),\n",
    ")\n",
    "\n",
    "well_name = np.where(df.well_name == df.well_name, df.well_name,\n",
    "                     np.where(df.well_name_f1001 == df.well_name_f1001, df.well_name_f1001, df.well_name_f1000)) \n",
    "                                             "
   ],
   "metadata": {
    "collapsed": false,
    "pycharm": {
     "name": "#%%\n",
     "is_executing": false
    }
   }
  },
  {
   "cell_type": "code",
   "execution_count": 11,
   "outputs": [
    {
     "data": {
      "text/plain": "array(['Producing', 'Producing', 'Producing', 'Producing', 'Producing',\n       'Producing', 'Producing', 'Producing', 'Producing', 'Producing',\n       'Producing', 'Producing', 'Producing', 'Producing', 'Producing',\n       'Producing', 'Producing', 'Producing', 'Producing', 'Producing',\n       'Completed', 'Producing', 'Producing', 'Producing', 'Producing',\n       'Producing', 'Completed', 'Producing', 'Producing', 'Producing',\n       'Producing', 'Producing', 'Producing', 'Producing', 'Producing',\n       'Producing', 'Producing', 'Producing', 'Producing', 'Producing',\n       'Producing', 'Producing', 'Producing', 'Producing', 'Completed',\n       'Producing', 'Producing', 'Producing', 'Producing', 'Completed',\n       'Completed', 'Spud', 'Producing', 'Producing', 'Producing', 'Spud',\n       'Producing', 'Producing', 'Producing', 'Producing', 'Producing',\n       'Producing', 'Producing', 'Producing', 'Producing', 'Producing',\n       'Producing', 'Producing', 'Completed', 'Producing', 'Producing',\n       'Producing', 'Producing', 'Producing', 'Producing', 'Producing',\n       'Producing', 'Producing', 'Producing', 'Producing', 'Producing',\n       'Completed', 'Completed', 'Producing', 'Producing', 'Producing',\n       'Producing', 'Completed', 'Completed', 'Producing', 'Producing',\n       'Completed', 'Completed', 'Producing', 'Producing', 'Producing',\n       'Producing', 'Producing', 'Producing', 'Producing', 'Producing',\n       'Producing', 'Producing', 'Producing', 'Producing', 'Producing',\n       'Completed', 'Producing', 'Producing', 'Completed', 'Permitted',\n       'Spud', 'Spud', 'Spud', 'Spud', 'Spud', 'Spud', 'Producing',\n       'Producing', 'Completed', 'Producing', 'Producing', 'Producing',\n       'Completed', 'Producing', 'Producing', 'Producing', 'Producing',\n       'Producing', 'Spud', 'Producing', 'Producing', 'Producing',\n       'Producing', 'Producing', 'Producing', 'Spud', 'Producing',\n       'Producing', 'Producing', 'Producing', 'Producing', 'Spud',\n       'Producing', 'Producing', 'Producing', 'Producing', 'Producing',\n       'Producing', 'Producing', 'Producing', 'Producing', 'Producing',\n       'Producing', 'Producing', 'Producing', 'Producing', 'Producing',\n       'Producing', 'Producing', 'Producing', 'Producing', 'Producing',\n       'Producing', 'Producing', 'Producing', 'Producing', 'Producing',\n       'Producing', 'Producing', 'Producing', 'Producing', 'Producing',\n       'Producing', 'Producing', 'Producing', 'Producing', 'Producing',\n       'Producing', 'Producing', 'Producing', 'Producing', 'Producing',\n       'Producing', 'Producing', 'Producing', 'Producing', 'Completed',\n       'Spud', 'Producing', 'Producing', 'Producing', 'Producing',\n       'Producing', 'Producing', 'Producing', 'Producing', 'Producing',\n       'Producing', 'Producing', 'Producing', 'Producing', 'Producing',\n       'Producing', 'Completed', 'Completed', 'Completed', 'Producing',\n       'Producing', 'Producing', 'Spud', 'Completed', 'Spud', 'Spud',\n       'Producing', 'Producing', 'Producing', 'Spud', 'Producing',\n       'Producing', 'Completed', 'Producing', 'Producing', 'Producing',\n       'Completed', 'Producing', 'Producing', 'Completed', 'Producing',\n       'Producing', 'Producing', 'Producing', 'Spud', 'Producing', 'Spud',\n       'Producing', 'Producing', 'Producing', 'Producing', 'Producing',\n       'Producing', 'Producing', 'Producing', 'Producing', 'Producing',\n       'Producing', 'Producing', 'Completed', 'Producing', 'Producing',\n       'Producing', 'Producing', 'Completed', 'Completed', 'Producing',\n       'Producing', 'Producing', 'Producing', 'Producing', 'Producing',\n       'Producing', 'Producing', 'Producing', 'Producing', 'Producing',\n       'Producing', 'Producing', 'Producing', 'Producing', 'Producing',\n       'Producing', 'Producing', 'Producing', 'Producing', 'Producing',\n       'Producing', 'Completed', 'Producing', 'Completed', 'Producing',\n       'Producing', 'Producing', 'Producing', 'Producing', 'Producing',\n       'Producing', 'Producing', 'Producing', 'Producing', 'Producing',\n       'Producing', 'Spud'], dtype='<U9')"
     },
     "metadata": {},
     "output_type": "execute_result",
     "execution_count": 11
    },
    {
     "data": {
      "text/plain": "<IPython.core.display.Javascript object>",
      "application/javascript": "\n        setTimeout(function() {\n            var nbb_cell_id = 11;\n            var nbb_formatted_code = \"type\";\n            var nbb_cells = Jupyter.notebook.get_cells();\n            for (var i = 0; i < nbb_cells.length; ++i) {\n                if (nbb_cells[i].input_prompt_number == nbb_cell_id) {\n                    nbb_cells[i].set_text(nbb_formatted_code);\n                    break;\n                }\n            }\n        }, 500);\n        "
     },
     "metadata": {},
     "output_type": "display_data"
    }
   ],
   "source": [
    "type"
   ],
   "metadata": {
    "collapsed": false,
    "pycharm": {
     "name": "#%%\n",
     "is_executing": false
    }
   }
  },
  {
   "cell_type": "code",
   "execution_count": 29,
   "outputs": [
    {
     "data": {
      "text/plain": "                      api  max30_oil  max30_gas     cum_oil   cum_gas\napi                                                                  \n35003218810000    3961.04    1121.18         82    99618.00   18455.0\n35003220370000   63884.84    7910.14         84   917260.00   81740.0\n35003223070000   86325.55   10833.86         70   449119.00   40544.0\n35003223660000   68786.74    5792.84         73   552977.00   36178.0\n35003225080000   18689.23    2726.66         60   703613.00   70091.0\n35003226540000   22553.40    3826.82         58   485819.00   44271.0\n35003228580000   47977.81    4691.10         52  1128348.00   98735.0\n35007253660000   41892.25    5628.17         79    71771.00   12554.0\n35007253810000   13677.15    3736.89         60     6452.00    1476.0\n35007254230000   16509.02    1177.69         77    75490.00    5079.0\n35007254390000    1844.79     518.34         34     2697.00     768.0\n35007255000000   98904.80   20560.36         47    83457.00   10754.0\n35007255280000   34692.07    7423.08         70    97851.00   67900.0\n35007255330000   27805.54   11783.38         59    20231.00    3947.0\n35007255620000   85856.42    9623.90         69   152246.00   11708.0\n35007255740000  127401.09   23086.16         67   430238.00   29035.0\n35007255880000   65873.68   14978.94         62    30257.00    2063.0\n35007256130000   57691.91    5073.32         59    86187.00    6079.0\n35007256290000   15717.41    7078.53         49    15822.00    2216.0\n35007256520000   10857.13    3736.08         47    18088.00    3216.0\n35011234050000   88757.40    9460.56         86   542643.00   49763.0\n35011234110000    7345.51     560.21         70  1377625.59   63789.0\n35011235750000   75465.12   12520.58         26   291488.00   28323.0\n35011235960000       0.00       0.00         23  4180114.00  386187.0\n35011237200000  183788.20   47740.54          8   462495.00   97630.0\n35011237550000   72207.35   15824.43         15   279650.00   33645.0\n35015231510000       0.00       0.00         81  1241793.00   48866.0\n35017240000000   13506.16     562.88         90   614588.00   45210.0\n35017241230000    2068.61     191.68        103  2358105.45  121577.0\n35017242460000   40277.35    1526.35         77   571754.00   54386.0\n...                   ...        ...        ...         ...       ...\n35129234900000   56973.04    2736.45         80   284388.00    9138.0\n35129235790000   20756.91    1485.60         78    59763.00    4911.0\n35129236220000   11446.93     594.00         73    21705.00   12463.0\n35129236680000  124721.10    8598.39         71   368963.00   21239.0\n35129238280000  128591.88    8248.00         58  2039808.00   72939.0\n35129238420000   22946.50    1632.30         57   162039.00    5763.0\n35129238690000   49218.83    4543.04         55   125838.00    5080.0\n35129238720000   35197.96    4381.80         54   378664.00   25373.0\n35129239150000   42606.37    2289.56         53   615801.00  282907.0\n35129239340000   28958.31    2988.28         50   385531.00   27841.0\n35129239400000   75425.06    4901.96         46   401221.00   25337.0\n35129239650000   29095.53    3900.98         47        0.00       0.0\n35129239910000   22295.64    1810.07         41   146081.00    5543.0\n35133247100000     345.88     133.93        119   592152.00   33601.0\n35137252890000  717719.65   96114.00        248   293293.00    9246.0\n35137253350000  999495.90   90406.00        268  1366627.00   19869.0\n35137257630000  140117.91   17957.57        188  1055414.00   35660.0\n35139246210000     613.50     384.33          5    16150.00    8510.0\n35149213820000  107274.33   11817.60        124  1950327.00  199666.0\n35149215030000   54176.56    6847.61        103  1155134.82  200288.0\n35149215590000   41898.16    3016.29         94   835016.00   76302.0\n35149215720000   32988.79    3537.92         95   738462.00   72878.0\n35149216520000   41737.98    4117.10         74   727894.00   67687.0\n35149217350000    3146.81    3146.81         10  1656003.00  205476.0\n35151235580000   20485.19    1925.48         61   225965.00   25883.0\n35151237170000    6393.34     674.74         68   274477.00   33702.0\n35151237180000   17196.98    3098.36         54   391331.00   35922.0\n35151237250000   10121.31    1238.28         37   251215.00   29724.0\n35151237270000   15917.72    1302.20         45   428716.00   20827.0\n35151237310000   12489.59    2596.34         58   289924.00   31572.0\n\n[243 rows x 5 columns]",
      "text/html": "<div>\n<style scoped>\n    .dataframe tbody tr th:only-of-type {\n        vertical-align: middle;\n    }\n\n    .dataframe tbody tr th {\n        vertical-align: top;\n    }\n\n    .dataframe thead th {\n        text-align: right;\n    }\n</style>\n<table border=\"1\" class=\"dataframe\">\n  <thead>\n    <tr style=\"text-align: right;\">\n      <th></th>\n      <th>api</th>\n      <th>max30_oil</th>\n      <th>max30_gas</th>\n      <th>cum_oil</th>\n      <th>cum_gas</th>\n    </tr>\n    <tr>\n      <th>api</th>\n      <th></th>\n      <th></th>\n      <th></th>\n      <th></th>\n      <th></th>\n    </tr>\n  </thead>\n  <tbody>\n    <tr>\n      <th>35003218810000</th>\n      <td>3961.04</td>\n      <td>1121.18</td>\n      <td>82</td>\n      <td>99618.00</td>\n      <td>18455.0</td>\n    </tr>\n    <tr>\n      <th>35003220370000</th>\n      <td>63884.84</td>\n      <td>7910.14</td>\n      <td>84</td>\n      <td>917260.00</td>\n      <td>81740.0</td>\n    </tr>\n    <tr>\n      <th>35003223070000</th>\n      <td>86325.55</td>\n      <td>10833.86</td>\n      <td>70</td>\n      <td>449119.00</td>\n      <td>40544.0</td>\n    </tr>\n    <tr>\n      <th>35003223660000</th>\n      <td>68786.74</td>\n      <td>5792.84</td>\n      <td>73</td>\n      <td>552977.00</td>\n      <td>36178.0</td>\n    </tr>\n    <tr>\n      <th>35003225080000</th>\n      <td>18689.23</td>\n      <td>2726.66</td>\n      <td>60</td>\n      <td>703613.00</td>\n      <td>70091.0</td>\n    </tr>\n    <tr>\n      <th>35003226540000</th>\n      <td>22553.40</td>\n      <td>3826.82</td>\n      <td>58</td>\n      <td>485819.00</td>\n      <td>44271.0</td>\n    </tr>\n    <tr>\n      <th>35003228580000</th>\n      <td>47977.81</td>\n      <td>4691.10</td>\n      <td>52</td>\n      <td>1128348.00</td>\n      <td>98735.0</td>\n    </tr>\n    <tr>\n      <th>35007253660000</th>\n      <td>41892.25</td>\n      <td>5628.17</td>\n      <td>79</td>\n      <td>71771.00</td>\n      <td>12554.0</td>\n    </tr>\n    <tr>\n      <th>35007253810000</th>\n      <td>13677.15</td>\n      <td>3736.89</td>\n      <td>60</td>\n      <td>6452.00</td>\n      <td>1476.0</td>\n    </tr>\n    <tr>\n      <th>35007254230000</th>\n      <td>16509.02</td>\n      <td>1177.69</td>\n      <td>77</td>\n      <td>75490.00</td>\n      <td>5079.0</td>\n    </tr>\n    <tr>\n      <th>35007254390000</th>\n      <td>1844.79</td>\n      <td>518.34</td>\n      <td>34</td>\n      <td>2697.00</td>\n      <td>768.0</td>\n    </tr>\n    <tr>\n      <th>35007255000000</th>\n      <td>98904.80</td>\n      <td>20560.36</td>\n      <td>47</td>\n      <td>83457.00</td>\n      <td>10754.0</td>\n    </tr>\n    <tr>\n      <th>35007255280000</th>\n      <td>34692.07</td>\n      <td>7423.08</td>\n      <td>70</td>\n      <td>97851.00</td>\n      <td>67900.0</td>\n    </tr>\n    <tr>\n      <th>35007255330000</th>\n      <td>27805.54</td>\n      <td>11783.38</td>\n      <td>59</td>\n      <td>20231.00</td>\n      <td>3947.0</td>\n    </tr>\n    <tr>\n      <th>35007255620000</th>\n      <td>85856.42</td>\n      <td>9623.90</td>\n      <td>69</td>\n      <td>152246.00</td>\n      <td>11708.0</td>\n    </tr>\n    <tr>\n      <th>35007255740000</th>\n      <td>127401.09</td>\n      <td>23086.16</td>\n      <td>67</td>\n      <td>430238.00</td>\n      <td>29035.0</td>\n    </tr>\n    <tr>\n      <th>35007255880000</th>\n      <td>65873.68</td>\n      <td>14978.94</td>\n      <td>62</td>\n      <td>30257.00</td>\n      <td>2063.0</td>\n    </tr>\n    <tr>\n      <th>35007256130000</th>\n      <td>57691.91</td>\n      <td>5073.32</td>\n      <td>59</td>\n      <td>86187.00</td>\n      <td>6079.0</td>\n    </tr>\n    <tr>\n      <th>35007256290000</th>\n      <td>15717.41</td>\n      <td>7078.53</td>\n      <td>49</td>\n      <td>15822.00</td>\n      <td>2216.0</td>\n    </tr>\n    <tr>\n      <th>35007256520000</th>\n      <td>10857.13</td>\n      <td>3736.08</td>\n      <td>47</td>\n      <td>18088.00</td>\n      <td>3216.0</td>\n    </tr>\n    <tr>\n      <th>35011234050000</th>\n      <td>88757.40</td>\n      <td>9460.56</td>\n      <td>86</td>\n      <td>542643.00</td>\n      <td>49763.0</td>\n    </tr>\n    <tr>\n      <th>35011234110000</th>\n      <td>7345.51</td>\n      <td>560.21</td>\n      <td>70</td>\n      <td>1377625.59</td>\n      <td>63789.0</td>\n    </tr>\n    <tr>\n      <th>35011235750000</th>\n      <td>75465.12</td>\n      <td>12520.58</td>\n      <td>26</td>\n      <td>291488.00</td>\n      <td>28323.0</td>\n    </tr>\n    <tr>\n      <th>35011235960000</th>\n      <td>0.00</td>\n      <td>0.00</td>\n      <td>23</td>\n      <td>4180114.00</td>\n      <td>386187.0</td>\n    </tr>\n    <tr>\n      <th>35011237200000</th>\n      <td>183788.20</td>\n      <td>47740.54</td>\n      <td>8</td>\n      <td>462495.00</td>\n      <td>97630.0</td>\n    </tr>\n    <tr>\n      <th>35011237550000</th>\n      <td>72207.35</td>\n      <td>15824.43</td>\n      <td>15</td>\n      <td>279650.00</td>\n      <td>33645.0</td>\n    </tr>\n    <tr>\n      <th>35015231510000</th>\n      <td>0.00</td>\n      <td>0.00</td>\n      <td>81</td>\n      <td>1241793.00</td>\n      <td>48866.0</td>\n    </tr>\n    <tr>\n      <th>35017240000000</th>\n      <td>13506.16</td>\n      <td>562.88</td>\n      <td>90</td>\n      <td>614588.00</td>\n      <td>45210.0</td>\n    </tr>\n    <tr>\n      <th>35017241230000</th>\n      <td>2068.61</td>\n      <td>191.68</td>\n      <td>103</td>\n      <td>2358105.45</td>\n      <td>121577.0</td>\n    </tr>\n    <tr>\n      <th>35017242460000</th>\n      <td>40277.35</td>\n      <td>1526.35</td>\n      <td>77</td>\n      <td>571754.00</td>\n      <td>54386.0</td>\n    </tr>\n    <tr>\n      <th>...</th>\n      <td>...</td>\n      <td>...</td>\n      <td>...</td>\n      <td>...</td>\n      <td>...</td>\n    </tr>\n    <tr>\n      <th>35129234900000</th>\n      <td>56973.04</td>\n      <td>2736.45</td>\n      <td>80</td>\n      <td>284388.00</td>\n      <td>9138.0</td>\n    </tr>\n    <tr>\n      <th>35129235790000</th>\n      <td>20756.91</td>\n      <td>1485.60</td>\n      <td>78</td>\n      <td>59763.00</td>\n      <td>4911.0</td>\n    </tr>\n    <tr>\n      <th>35129236220000</th>\n      <td>11446.93</td>\n      <td>594.00</td>\n      <td>73</td>\n      <td>21705.00</td>\n      <td>12463.0</td>\n    </tr>\n    <tr>\n      <th>35129236680000</th>\n      <td>124721.10</td>\n      <td>8598.39</td>\n      <td>71</td>\n      <td>368963.00</td>\n      <td>21239.0</td>\n    </tr>\n    <tr>\n      <th>35129238280000</th>\n      <td>128591.88</td>\n      <td>8248.00</td>\n      <td>58</td>\n      <td>2039808.00</td>\n      <td>72939.0</td>\n    </tr>\n    <tr>\n      <th>35129238420000</th>\n      <td>22946.50</td>\n      <td>1632.30</td>\n      <td>57</td>\n      <td>162039.00</td>\n      <td>5763.0</td>\n    </tr>\n    <tr>\n      <th>35129238690000</th>\n      <td>49218.83</td>\n      <td>4543.04</td>\n      <td>55</td>\n      <td>125838.00</td>\n      <td>5080.0</td>\n    </tr>\n    <tr>\n      <th>35129238720000</th>\n      <td>35197.96</td>\n      <td>4381.80</td>\n      <td>54</td>\n      <td>378664.00</td>\n      <td>25373.0</td>\n    </tr>\n    <tr>\n      <th>35129239150000</th>\n      <td>42606.37</td>\n      <td>2289.56</td>\n      <td>53</td>\n      <td>615801.00</td>\n      <td>282907.0</td>\n    </tr>\n    <tr>\n      <th>35129239340000</th>\n      <td>28958.31</td>\n      <td>2988.28</td>\n      <td>50</td>\n      <td>385531.00</td>\n      <td>27841.0</td>\n    </tr>\n    <tr>\n      <th>35129239400000</th>\n      <td>75425.06</td>\n      <td>4901.96</td>\n      <td>46</td>\n      <td>401221.00</td>\n      <td>25337.0</td>\n    </tr>\n    <tr>\n      <th>35129239650000</th>\n      <td>29095.53</td>\n      <td>3900.98</td>\n      <td>47</td>\n      <td>0.00</td>\n      <td>0.0</td>\n    </tr>\n    <tr>\n      <th>35129239910000</th>\n      <td>22295.64</td>\n      <td>1810.07</td>\n      <td>41</td>\n      <td>146081.00</td>\n      <td>5543.0</td>\n    </tr>\n    <tr>\n      <th>35133247100000</th>\n      <td>345.88</td>\n      <td>133.93</td>\n      <td>119</td>\n      <td>592152.00</td>\n      <td>33601.0</td>\n    </tr>\n    <tr>\n      <th>35137252890000</th>\n      <td>717719.65</td>\n      <td>96114.00</td>\n      <td>248</td>\n      <td>293293.00</td>\n      <td>9246.0</td>\n    </tr>\n    <tr>\n      <th>35137253350000</th>\n      <td>999495.90</td>\n      <td>90406.00</td>\n      <td>268</td>\n      <td>1366627.00</td>\n      <td>19869.0</td>\n    </tr>\n    <tr>\n      <th>35137257630000</th>\n      <td>140117.91</td>\n      <td>17957.57</td>\n      <td>188</td>\n      <td>1055414.00</td>\n      <td>35660.0</td>\n    </tr>\n    <tr>\n      <th>35139246210000</th>\n      <td>613.50</td>\n      <td>384.33</td>\n      <td>5</td>\n      <td>16150.00</td>\n      <td>8510.0</td>\n    </tr>\n    <tr>\n      <th>35149213820000</th>\n      <td>107274.33</td>\n      <td>11817.60</td>\n      <td>124</td>\n      <td>1950327.00</td>\n      <td>199666.0</td>\n    </tr>\n    <tr>\n      <th>35149215030000</th>\n      <td>54176.56</td>\n      <td>6847.61</td>\n      <td>103</td>\n      <td>1155134.82</td>\n      <td>200288.0</td>\n    </tr>\n    <tr>\n      <th>35149215590000</th>\n      <td>41898.16</td>\n      <td>3016.29</td>\n      <td>94</td>\n      <td>835016.00</td>\n      <td>76302.0</td>\n    </tr>\n    <tr>\n      <th>35149215720000</th>\n      <td>32988.79</td>\n      <td>3537.92</td>\n      <td>95</td>\n      <td>738462.00</td>\n      <td>72878.0</td>\n    </tr>\n    <tr>\n      <th>35149216520000</th>\n      <td>41737.98</td>\n      <td>4117.10</td>\n      <td>74</td>\n      <td>727894.00</td>\n      <td>67687.0</td>\n    </tr>\n    <tr>\n      <th>35149217350000</th>\n      <td>3146.81</td>\n      <td>3146.81</td>\n      <td>10</td>\n      <td>1656003.00</td>\n      <td>205476.0</td>\n    </tr>\n    <tr>\n      <th>35151235580000</th>\n      <td>20485.19</td>\n      <td>1925.48</td>\n      <td>61</td>\n      <td>225965.00</td>\n      <td>25883.0</td>\n    </tr>\n    <tr>\n      <th>35151237170000</th>\n      <td>6393.34</td>\n      <td>674.74</td>\n      <td>68</td>\n      <td>274477.00</td>\n      <td>33702.0</td>\n    </tr>\n    <tr>\n      <th>35151237180000</th>\n      <td>17196.98</td>\n      <td>3098.36</td>\n      <td>54</td>\n      <td>391331.00</td>\n      <td>35922.0</td>\n    </tr>\n    <tr>\n      <th>35151237250000</th>\n      <td>10121.31</td>\n      <td>1238.28</td>\n      <td>37</td>\n      <td>251215.00</td>\n      <td>29724.0</td>\n    </tr>\n    <tr>\n      <th>35151237270000</th>\n      <td>15917.72</td>\n      <td>1302.20</td>\n      <td>45</td>\n      <td>428716.00</td>\n      <td>20827.0</td>\n    </tr>\n    <tr>\n      <th>35151237310000</th>\n      <td>12489.59</td>\n      <td>2596.34</td>\n      <td>58</td>\n      <td>289924.00</td>\n      <td>31572.0</td>\n    </tr>\n  </tbody>\n</table>\n<p>243 rows × 5 columns</p>\n</div>"
     },
     "metadata": {},
     "output_type": "execute_result",
     "execution_count": 29
    },
    {
     "data": {
      "text/plain": "<IPython.core.display.Javascript object>",
      "application/javascript": "\n        setTimeout(function() {\n            var nbb_cell_id = 29;\n            var nbb_formatted_code = \"pdp_prod\";\n            var nbb_cells = Jupyter.notebook.get_cells();\n            for (var i = 0; i < nbb_cells.length; ++i) {\n                if (nbb_cells[i].input_prompt_number == nbb_cell_id) {\n                    nbb_cells[i].set_text(nbb_formatted_code);\n                    break;\n                }\n            }\n        }, 500);\n        "
     },
     "metadata": {},
     "output_type": "display_data"
    }
   ],
   "source": [
    "pdp_prod\n",
    "\n",
    "\n",
    "\n",
    "\n",
    "\n",
    "\n",
    "\n",
    "\n",
    "\n",
    "\n",
    "\n",
    "\n",
    "\n",
    "\n",
    "\n",
    "\n",
    "\n",
    "\n",
    "\n",
    "\n",
    "\n",
    "\n",
    "\n",
    "\n",
    "\n",
    "\n",
    "\n",
    "\n",
    "\n",
    "\n",
    "\n",
    "\n",
    "\n",
    "\n",
    "\n",
    "\n",
    "\n",
    "\n",
    "\n",
    "\n",
    "\n",
    "\n",
    "\n",
    "\n",
    "\n",
    "\n",
    "\n",
    "\n",
    "\n",
    "\n",
    "\n",
    "\n",
    "\n",
    "\n",
    "\n",
    "\n",
    "\n",
    "\n",
    "\n"
   ],
   "metadata": {
    "collapsed": false,
    "pycharm": {
     "name": "#%%\n",
     "is_executing": false
    }
   }
  },
  {
   "cell_type": "code",
   "execution_count": null,
   "outputs": [],
   "source": [
    "\n"
   ],
   "metadata": {
    "collapsed": false,
    "pycharm": {
     "name": "#%%\n"
    }
   }
  }
 ],
 "metadata": {
  "kernelspec": {
   "name": "python3",
   "language": "python",
   "display_name": "Python 3"
  },
  "language_info": {
   "codemirror_mode": {
    "name": "ipython",
    "version": 3
   },
   "file_extension": ".py",
   "mimetype": "text/x-python",
   "name": "python",
   "nbconvert_exporter": "python",
   "pygments_lexer": "ipython3",
   "version": "3.6.7"
  },
  "pycharm": {
   "stem_cell": {
    "cell_type": "raw",
    "source": [],
    "metadata": {
     "collapsed": false
    }
   }
  }
 },
 "nbformat": 4,
 "nbformat_minor": 2
}